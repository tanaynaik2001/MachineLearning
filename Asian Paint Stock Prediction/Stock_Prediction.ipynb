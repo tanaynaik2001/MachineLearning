{
  "nbformat": 4,
  "nbformat_minor": 0,
  "metadata": {
    "colab": {
      "name": "Stock Prediction.ipynb",
      "provenance": []
    },
    "kernelspec": {
      "name": "python3",
      "display_name": "Python 3"
    },
    "language_info": {
      "name": "python"
    }
  },
  "cells": [
    {
      "cell_type": "code",
      "metadata": {
        "id": "-Rcvq3qlBNRC"
      },
      "source": [
        "import numpy as np\n",
        "import matplotlib.pyplot as plt\n",
        "import pandas as pd\n",
        "import datetime"
      ],
      "execution_count": 1,
      "outputs": []
    },
    {
      "cell_type": "code",
      "metadata": {
        "colab": {
          "base_uri": "https://localhost:8080/",
          "height": 357
        },
        "id": "l0V04JRDBVLd",
        "outputId": "68143c88-6cee-4200-c9a2-33de253a8304"
      },
      "source": [
        "dataset=pd.read_csv(\"ASIANPAINT.csv\",index_col=\"Date\")\n",
        "dataset.head()"
      ],
      "execution_count": 2,
      "outputs": [
        {
          "output_type": "execute_result",
          "data": {
            "text/html": [
              "<div>\n",
              "<style scoped>\n",
              "    .dataframe tbody tr th:only-of-type {\n",
              "        vertical-align: middle;\n",
              "    }\n",
              "\n",
              "    .dataframe tbody tr th {\n",
              "        vertical-align: top;\n",
              "    }\n",
              "\n",
              "    .dataframe thead th {\n",
              "        text-align: right;\n",
              "    }\n",
              "</style>\n",
              "<table border=\"1\" class=\"dataframe\">\n",
              "  <thead>\n",
              "    <tr style=\"text-align: right;\">\n",
              "      <th></th>\n",
              "      <th>Symbol</th>\n",
              "      <th>Series</th>\n",
              "      <th>Prev Close</th>\n",
              "      <th>Open</th>\n",
              "      <th>High</th>\n",
              "      <th>Low</th>\n",
              "      <th>Last</th>\n",
              "      <th>Close</th>\n",
              "      <th>VWAP</th>\n",
              "      <th>Volume</th>\n",
              "      <th>Turnover</th>\n",
              "      <th>Trades</th>\n",
              "      <th>Deliverable Volume</th>\n",
              "      <th>%Deliverble</th>\n",
              "    </tr>\n",
              "    <tr>\n",
              "      <th>Date</th>\n",
              "      <th></th>\n",
              "      <th></th>\n",
              "      <th></th>\n",
              "      <th></th>\n",
              "      <th></th>\n",
              "      <th></th>\n",
              "      <th></th>\n",
              "      <th></th>\n",
              "      <th></th>\n",
              "      <th></th>\n",
              "      <th></th>\n",
              "      <th></th>\n",
              "      <th></th>\n",
              "      <th></th>\n",
              "    </tr>\n",
              "  </thead>\n",
              "  <tbody>\n",
              "    <tr>\n",
              "      <th>2000-01-03</th>\n",
              "      <td>ASIANPAINT</td>\n",
              "      <td>EQ</td>\n",
              "      <td>361.20</td>\n",
              "      <td>370.0</td>\n",
              "      <td>390.0</td>\n",
              "      <td>370.0</td>\n",
              "      <td>385.0</td>\n",
              "      <td>381.65</td>\n",
              "      <td>380.54</td>\n",
              "      <td>3318</td>\n",
              "      <td>1.262617e+11</td>\n",
              "      <td>NaN</td>\n",
              "      <td>NaN</td>\n",
              "      <td>NaN</td>\n",
              "    </tr>\n",
              "    <tr>\n",
              "      <th>2000-01-04</th>\n",
              "      <td>ASIANPAINT</td>\n",
              "      <td>EQ</td>\n",
              "      <td>381.65</td>\n",
              "      <td>380.0</td>\n",
              "      <td>392.0</td>\n",
              "      <td>375.0</td>\n",
              "      <td>390.0</td>\n",
              "      <td>385.55</td>\n",
              "      <td>383.50</td>\n",
              "      <td>4818</td>\n",
              "      <td>1.847699e+11</td>\n",
              "      <td>NaN</td>\n",
              "      <td>NaN</td>\n",
              "      <td>NaN</td>\n",
              "    </tr>\n",
              "    <tr>\n",
              "      <th>2000-01-05</th>\n",
              "      <td>ASIANPAINT</td>\n",
              "      <td>EQ</td>\n",
              "      <td>385.55</td>\n",
              "      <td>371.5</td>\n",
              "      <td>390.0</td>\n",
              "      <td>371.5</td>\n",
              "      <td>383.0</td>\n",
              "      <td>383.00</td>\n",
              "      <td>379.81</td>\n",
              "      <td>2628</td>\n",
              "      <td>9.981384e+10</td>\n",
              "      <td>NaN</td>\n",
              "      <td>NaN</td>\n",
              "      <td>NaN</td>\n",
              "    </tr>\n",
              "    <tr>\n",
              "      <th>2000-01-06</th>\n",
              "      <td>ASIANPAINT</td>\n",
              "      <td>EQ</td>\n",
              "      <td>383.00</td>\n",
              "      <td>384.9</td>\n",
              "      <td>384.9</td>\n",
              "      <td>374.5</td>\n",
              "      <td>375.1</td>\n",
              "      <td>377.50</td>\n",
              "      <td>379.88</td>\n",
              "      <td>3354</td>\n",
              "      <td>1.274114e+11</td>\n",
              "      <td>NaN</td>\n",
              "      <td>NaN</td>\n",
              "      <td>NaN</td>\n",
              "    </tr>\n",
              "    <tr>\n",
              "      <th>2000-01-07</th>\n",
              "      <td>ASIANPAINT</td>\n",
              "      <td>EQ</td>\n",
              "      <td>377.50</td>\n",
              "      <td>376.0</td>\n",
              "      <td>390.0</td>\n",
              "      <td>370.0</td>\n",
              "      <td>389.0</td>\n",
              "      <td>385.70</td>\n",
              "      <td>383.38</td>\n",
              "      <td>9589</td>\n",
              "      <td>3.676275e+11</td>\n",
              "      <td>NaN</td>\n",
              "      <td>NaN</td>\n",
              "      <td>NaN</td>\n",
              "    </tr>\n",
              "  </tbody>\n",
              "</table>\n",
              "</div>"
            ],
            "text/plain": [
              "                Symbol Series  ...  Deliverable Volume  %Deliverble\n",
              "Date                           ...                                 \n",
              "2000-01-03  ASIANPAINT     EQ  ...                 NaN          NaN\n",
              "2000-01-04  ASIANPAINT     EQ  ...                 NaN          NaN\n",
              "2000-01-05  ASIANPAINT     EQ  ...                 NaN          NaN\n",
              "2000-01-06  ASIANPAINT     EQ  ...                 NaN          NaN\n",
              "2000-01-07  ASIANPAINT     EQ  ...                 NaN          NaN\n",
              "\n",
              "[5 rows x 14 columns]"
            ]
          },
          "metadata": {
            "tags": []
          },
          "execution_count": 2
        }
      ]
    },
    {
      "cell_type": "code",
      "metadata": {
        "colab": {
          "base_uri": "https://localhost:8080/"
        },
        "id": "ivdy0GL4CTJW",
        "outputId": "d1d50810-e05f-4825-d881-b760415585a7"
      },
      "source": [
        "dataset.isnull().sum()"
      ],
      "execution_count": 3,
      "outputs": [
        {
          "output_type": "execute_result",
          "data": {
            "text/plain": [
              "Symbol                   0\n",
              "Series                   0\n",
              "Prev Close               0\n",
              "Open                     0\n",
              "High                     0\n",
              "Low                      0\n",
              "Last                     0\n",
              "Close                    0\n",
              "VWAP                     0\n",
              "Volume                   0\n",
              "Turnover                 0\n",
              "Trades                2850\n",
              "Deliverable Volume     509\n",
              "%Deliverble            509\n",
              "dtype: int64"
            ]
          },
          "metadata": {
            "tags": []
          },
          "execution_count": 3
        }
      ]
    },
    {
      "cell_type": "code",
      "metadata": {
        "colab": {
          "base_uri": "https://localhost:8080/"
        },
        "id": "WIekSfCGCW83",
        "outputId": "91822cd7-eb96-4862-d5ba-f2fc3b462700"
      },
      "source": [
        "dataset.info()"
      ],
      "execution_count": 4,
      "outputs": [
        {
          "output_type": "stream",
          "text": [
            "<class 'pandas.core.frame.DataFrame'>\n",
            "Index: 5306 entries, 2000-01-03 to 2021-04-30\n",
            "Data columns (total 14 columns):\n",
            " #   Column              Non-Null Count  Dtype  \n",
            "---  ------              --------------  -----  \n",
            " 0   Symbol              5306 non-null   object \n",
            " 1   Series              5306 non-null   object \n",
            " 2   Prev Close          5306 non-null   float64\n",
            " 3   Open                5306 non-null   float64\n",
            " 4   High                5306 non-null   float64\n",
            " 5   Low                 5306 non-null   float64\n",
            " 6   Last                5306 non-null   float64\n",
            " 7   Close               5306 non-null   float64\n",
            " 8   VWAP                5306 non-null   float64\n",
            " 9   Volume              5306 non-null   int64  \n",
            " 10  Turnover            5306 non-null   float64\n",
            " 11  Trades              2456 non-null   float64\n",
            " 12  Deliverable Volume  4797 non-null   float64\n",
            " 13  %Deliverble         4797 non-null   float64\n",
            "dtypes: float64(11), int64(1), object(2)\n",
            "memory usage: 621.8+ KB\n"
          ],
          "name": "stdout"
        }
      ]
    },
    {
      "cell_type": "code",
      "metadata": {
        "colab": {
          "base_uri": "https://localhost:8080/",
          "height": 405
        },
        "id": "eAd783B7CZ6J",
        "outputId": "80ba600d-52db-43da-f652-cab402c01610"
      },
      "source": [
        "dataset['Open'].plot(figsize=(16,6))"
      ],
      "execution_count": 5,
      "outputs": [
        {
          "output_type": "execute_result",
          "data": {
            "text/plain": [
              "<matplotlib.axes._subplots.AxesSubplot at 0x7fbaa4dbc610>"
            ]
          },
          "metadata": {
            "tags": []
          },
          "execution_count": 5
        },
        {
          "output_type": "display_data",
          "data": {
            "image/png": "[encoded data removed]",
            "text/plain": [
              "<Figure size 1152x432 with 1 Axes>"
            ]
          },
          "metadata": {
            "tags": [],
            "needs_background": "light"
          }
        }
      ]
    },
    {
      "cell_type": "code",
      "metadata": {
        "colab": {
          "base_uri": "https://localhost:8080/",
          "height": 1000
        },
        "id": "UPQtIX-1DrhD",
        "outputId": "ae4281d8-9d6e-4b29-9acd-86882fa5d90d"
      },
      "source": [
        "dataset.rolling(7).mean().head(20)"
      ],
      "execution_count": 6,
      "outputs": [
        {
          "output_type": "execute_result",
          "data": {
            "text/html": [
              "<div>\n",
              "<style scoped>\n",
              "    .dataframe tbody tr th:only-of-type {\n",
              "        vertical-align: middle;\n",
              "    }\n",
              "\n",
              "    .dataframe tbody tr th {\n",
              "        vertical-align: top;\n",
              "    }\n",
              "\n",
              "    .dataframe thead th {\n",
              "        text-align: right;\n",
              "    }\n",
              "</style>\n",
              "<table border=\"1\" class=\"dataframe\">\n",
              "  <thead>\n",
              "    <tr style=\"text-align: right;\">\n",
              "      <th></th>\n",
              "      <th>Prev Close</th>\n",
              "      <th>Open</th>\n",
              "      <th>High</th>\n",
              "      <th>Low</th>\n",
              "      <th>Last</th>\n",
              "      <th>Close</th>\n",
              "      <th>VWAP</th>\n",
              "      <th>Volume</th>\n",
              "      <th>Turnover</th>\n",
              "      <th>Trades</th>\n",
              "      <th>Deliverable Volume</th>\n",
              "      <th>%Deliverble</th>\n",
              "    </tr>\n",
              "    <tr>\n",
              "      <th>Date</th>\n",
              "      <th></th>\n",
              "      <th></th>\n",
              "      <th></th>\n",
              "      <th></th>\n",
              "      <th></th>\n",
              "      <th></th>\n",
              "      <th></th>\n",
              "      <th></th>\n",
              "      <th></th>\n",
              "      <th></th>\n",
              "      <th></th>\n",
              "      <th></th>\n",
              "    </tr>\n",
              "  </thead>\n",
              "  <tbody>\n",
              "    <tr>\n",
              "      <th>2000-01-03</th>\n",
              "      <td>NaN</td>\n",
              "      <td>NaN</td>\n",
              "      <td>NaN</td>\n",
              "      <td>NaN</td>\n",
              "      <td>NaN</td>\n",
              "      <td>NaN</td>\n",
              "      <td>NaN</td>\n",
              "      <td>NaN</td>\n",
              "      <td>NaN</td>\n",
              "      <td>NaN</td>\n",
              "      <td>NaN</td>\n",
              "      <td>NaN</td>\n",
              "    </tr>\n",
              "    <tr>\n",
              "      <th>2000-01-04</th>\n",
              "      <td>NaN</td>\n",
              "      <td>NaN</td>\n",
              "      <td>NaN</td>\n",
              "      <td>NaN</td>\n",
              "      <td>NaN</td>\n",
              "      <td>NaN</td>\n",
              "      <td>NaN</td>\n",
              "      <td>NaN</td>\n",
              "      <td>NaN</td>\n",
              "      <td>NaN</td>\n",
              "      <td>NaN</td>\n",
              "      <td>NaN</td>\n",
              "    </tr>\n",
              "    <tr>\n",
              "      <th>2000-01-05</th>\n",
              "      <td>NaN</td>\n",
              "      <td>NaN</td>\n",
              "      <td>NaN</td>\n",
              "      <td>NaN</td>\n",
              "      <td>NaN</td>\n",
              "      <td>NaN</td>\n",
              "      <td>NaN</td>\n",
              "      <td>NaN</td>\n",
              "      <td>NaN</td>\n",
              "      <td>NaN</td>\n",
              "      <td>NaN</td>\n",
              "      <td>NaN</td>\n",
              "    </tr>\n",
              "    <tr>\n",
              "      <th>2000-01-06</th>\n",
              "      <td>NaN</td>\n",
              "      <td>NaN</td>\n",
              "      <td>NaN</td>\n",
              "      <td>NaN</td>\n",
              "      <td>NaN</td>\n",
              "      <td>NaN</td>\n",
              "      <td>NaN</td>\n",
              "      <td>NaN</td>\n",
              "      <td>NaN</td>\n",
              "      <td>NaN</td>\n",
              "      <td>NaN</td>\n",
              "      <td>NaN</td>\n",
              "    </tr>\n",
              "    <tr>\n",
              "      <th>2000-01-07</th>\n",
              "      <td>NaN</td>\n",
              "      <td>NaN</td>\n",
              "      <td>NaN</td>\n",
              "      <td>NaN</td>\n",
              "      <td>NaN</td>\n",
              "      <td>NaN</td>\n",
              "      <td>NaN</td>\n",
              "      <td>NaN</td>\n",
              "      <td>NaN</td>\n",
              "      <td>NaN</td>\n",
              "      <td>NaN</td>\n",
              "      <td>NaN</td>\n",
              "    </tr>\n",
              "    <tr>\n",
              "      <th>2000-01-10</th>\n",
              "      <td>NaN</td>\n",
              "      <td>NaN</td>\n",
              "      <td>NaN</td>\n",
              "      <td>NaN</td>\n",
              "      <td>NaN</td>\n",
              "      <td>NaN</td>\n",
              "      <td>NaN</td>\n",
              "      <td>NaN</td>\n",
              "      <td>NaN</td>\n",
              "      <td>NaN</td>\n",
              "      <td>NaN</td>\n",
              "      <td>NaN</td>\n",
              "    </tr>\n",
              "    <tr>\n",
              "      <th>2000-01-11</th>\n",
              "      <td>384.228571</td>\n",
              "      <td>387.485714</td>\n",
              "      <td>398.071429</td>\n",
              "      <td>382.714286</td>\n",
              "      <td>393.671429</td>\n",
              "      <td>391.942857</td>\n",
              "      <td>390.655714</td>\n",
              "      <td>21370.000000</td>\n",
              "      <td>8.733585e+11</td>\n",
              "      <td>NaN</td>\n",
              "      <td>NaN</td>\n",
              "      <td>NaN</td>\n",
              "    </tr>\n",
              "    <tr>\n",
              "      <th>2000-01-12</th>\n",
              "      <td>391.942857</td>\n",
              "      <td>394.628571</td>\n",
              "      <td>406.421429</td>\n",
              "      <td>388.435714</td>\n",
              "      <td>398.464286</td>\n",
              "      <td>397.085714</td>\n",
              "      <td>396.501429</td>\n",
              "      <td>24446.571429</td>\n",
              "      <td>1.004964e+12</td>\n",
              "      <td>NaN</td>\n",
              "      <td>NaN</td>\n",
              "      <td>NaN</td>\n",
              "    </tr>\n",
              "    <tr>\n",
              "      <th>2000-01-13</th>\n",
              "      <td>397.085714</td>\n",
              "      <td>400.771429</td>\n",
              "      <td>411.835714</td>\n",
              "      <td>393.871429</td>\n",
              "      <td>402.335714</td>\n",
              "      <td>401.821429</td>\n",
              "      <td>402.058571</td>\n",
              "      <td>25068.142857</td>\n",
              "      <td>1.033897e+12</td>\n",
              "      <td>NaN</td>\n",
              "      <td>NaN</td>\n",
              "      <td>NaN</td>\n",
              "    </tr>\n",
              "    <tr>\n",
              "      <th>2000-01-14</th>\n",
              "      <td>401.821429</td>\n",
              "      <td>406.271429</td>\n",
              "      <td>415.392857</td>\n",
              "      <td>399.085714</td>\n",
              "      <td>406.278571</td>\n",
              "      <td>405.678571</td>\n",
              "      <td>406.378571</td>\n",
              "      <td>33921.714286</td>\n",
              "      <td>1.398070e+12</td>\n",
              "      <td>NaN</td>\n",
              "      <td>NaN</td>\n",
              "      <td>NaN</td>\n",
              "    </tr>\n",
              "    <tr>\n",
              "      <th>2000-01-17</th>\n",
              "      <td>405.678571</td>\n",
              "      <td>411.285714</td>\n",
              "      <td>420.550000</td>\n",
              "      <td>402.871429</td>\n",
              "      <td>411.978571</td>\n",
              "      <td>410.514286</td>\n",
              "      <td>411.212857</td>\n",
              "      <td>34519.285714</td>\n",
              "      <td>1.424414e+12</td>\n",
              "      <td>NaN</td>\n",
              "      <td>NaN</td>\n",
              "      <td>NaN</td>\n",
              "    </tr>\n",
              "    <tr>\n",
              "      <th>2000-01-18</th>\n",
              "      <td>410.514286</td>\n",
              "      <td>416.142857</td>\n",
              "      <td>424.692857</td>\n",
              "      <td>408.585714</td>\n",
              "      <td>415.835714</td>\n",
              "      <td>414.564286</td>\n",
              "      <td>415.552857</td>\n",
              "      <td>34243.142857</td>\n",
              "      <td>1.417149e+12</td>\n",
              "      <td>NaN</td>\n",
              "      <td>NaN</td>\n",
              "      <td>NaN</td>\n",
              "    </tr>\n",
              "    <tr>\n",
              "      <th>2000-01-19</th>\n",
              "      <td>414.564286</td>\n",
              "      <td>417.571429</td>\n",
              "      <td>426.607143</td>\n",
              "      <td>409.800000</td>\n",
              "      <td>416.035714</td>\n",
              "      <td>415.185714</td>\n",
              "      <td>416.547143</td>\n",
              "      <td>29741.285714</td>\n",
              "      <td>1.233196e+12</td>\n",
              "      <td>NaN</td>\n",
              "      <td>NaN</td>\n",
              "      <td>NaN</td>\n",
              "    </tr>\n",
              "    <tr>\n",
              "      <th>2000-01-20</th>\n",
              "      <td>415.185714</td>\n",
              "      <td>419.000000</td>\n",
              "      <td>427.450000</td>\n",
              "      <td>410.228571</td>\n",
              "      <td>416.750000</td>\n",
              "      <td>415.950000</td>\n",
              "      <td>417.442857</td>\n",
              "      <td>28128.714286</td>\n",
              "      <td>1.171540e+12</td>\n",
              "      <td>NaN</td>\n",
              "      <td>NaN</td>\n",
              "      <td>NaN</td>\n",
              "    </tr>\n",
              "    <tr>\n",
              "      <th>2000-01-21</th>\n",
              "      <td>415.950000</td>\n",
              "      <td>419.285714</td>\n",
              "      <td>426.957143</td>\n",
              "      <td>411.828571</td>\n",
              "      <td>417.800000</td>\n",
              "      <td>417.121429</td>\n",
              "      <td>418.630000</td>\n",
              "      <td>31490.714286</td>\n",
              "      <td>1.318976e+12</td>\n",
              "      <td>NaN</td>\n",
              "      <td>NaN</td>\n",
              "      <td>NaN</td>\n",
              "    </tr>\n",
              "    <tr>\n",
              "      <th>2000-01-24</th>\n",
              "      <td>417.121429</td>\n",
              "      <td>420.857143</td>\n",
              "      <td>431.250000</td>\n",
              "      <td>414.821429</td>\n",
              "      <td>423.921429</td>\n",
              "      <td>422.792857</td>\n",
              "      <td>423.672857</td>\n",
              "      <td>38110.000000</td>\n",
              "      <td>1.626567e+12</td>\n",
              "      <td>NaN</td>\n",
              "      <td>NaN</td>\n",
              "      <td>NaN</td>\n",
              "    </tr>\n",
              "    <tr>\n",
              "      <th>2000-01-25</th>\n",
              "      <td>422.792857</td>\n",
              "      <td>429.428571</td>\n",
              "      <td>442.700000</td>\n",
              "      <td>423.250000</td>\n",
              "      <td>435.985714</td>\n",
              "      <td>434.892857</td>\n",
              "      <td>434.237143</td>\n",
              "      <td>35369.857143</td>\n",
              "      <td>1.562200e+12</td>\n",
              "      <td>NaN</td>\n",
              "      <td>NaN</td>\n",
              "      <td>NaN</td>\n",
              "    </tr>\n",
              "    <tr>\n",
              "      <th>2000-01-27</th>\n",
              "      <td>434.892857</td>\n",
              "      <td>445.142857</td>\n",
              "      <td>458.271429</td>\n",
              "      <td>431.678571</td>\n",
              "      <td>444.842857</td>\n",
              "      <td>443.692857</td>\n",
              "      <td>443.327143</td>\n",
              "      <td>39029.714286</td>\n",
              "      <td>1.743755e+12</td>\n",
              "      <td>NaN</td>\n",
              "      <td>NaN</td>\n",
              "      <td>NaN</td>\n",
              "    </tr>\n",
              "    <tr>\n",
              "      <th>2000-01-28</th>\n",
              "      <td>443.692857</td>\n",
              "      <td>453.714286</td>\n",
              "      <td>467.414286</td>\n",
              "      <td>439.535714</td>\n",
              "      <td>454.128571</td>\n",
              "      <td>453.207143</td>\n",
              "      <td>452.731429</td>\n",
              "      <td>44888.000000</td>\n",
              "      <td>2.031912e+12</td>\n",
              "      <td>NaN</td>\n",
              "      <td>NaN</td>\n",
              "      <td>NaN</td>\n",
              "    </tr>\n",
              "    <tr>\n",
              "      <th>2000-01-31</th>\n",
              "      <td>453.207143</td>\n",
              "      <td>464.285714</td>\n",
              "      <td>477.271429</td>\n",
              "      <td>445.607143</td>\n",
              "      <td>460.200000</td>\n",
              "      <td>459.085714</td>\n",
              "      <td>458.330000</td>\n",
              "      <td>45821.428571</td>\n",
              "      <td>2.091080e+12</td>\n",
              "      <td>NaN</td>\n",
              "      <td>NaN</td>\n",
              "      <td>NaN</td>\n",
              "    </tr>\n",
              "  </tbody>\n",
              "</table>\n",
              "</div>"
            ],
            "text/plain": [
              "            Prev Close        Open  ...  Deliverable Volume  %Deliverble\n",
              "Date                                ...                                 \n",
              "2000-01-03         NaN         NaN  ...                 NaN          NaN\n",
              "2000-01-04         NaN         NaN  ...                 NaN          NaN\n",
              "2000-01-05         NaN         NaN  ...                 NaN          NaN\n",
              "2000-01-06         NaN         NaN  ...                 NaN          NaN\n",
              "2000-01-07         NaN         NaN  ...                 NaN          NaN\n",
              "2000-01-10         NaN         NaN  ...                 NaN          NaN\n",
              "2000-01-11  384.228571  387.485714  ...                 NaN          NaN\n",
              "2000-01-12  391.942857  394.628571  ...                 NaN          NaN\n",
              "2000-01-13  397.085714  400.771429  ...                 NaN          NaN\n",
              "2000-01-14  401.821429  406.271429  ...                 NaN          NaN\n",
              "2000-01-17  405.678571  411.285714  ...                 NaN          NaN\n",
              "2000-01-18  410.514286  416.142857  ...                 NaN          NaN\n",
              "2000-01-19  414.564286  417.571429  ...                 NaN          NaN\n",
              "2000-01-20  415.185714  419.000000  ...                 NaN          NaN\n",
              "2000-01-21  415.950000  419.285714  ...                 NaN          NaN\n",
              "2000-01-24  417.121429  420.857143  ...                 NaN          NaN\n",
              "2000-01-25  422.792857  429.428571  ...                 NaN          NaN\n",
              "2000-01-27  434.892857  445.142857  ...                 NaN          NaN\n",
              "2000-01-28  443.692857  453.714286  ...                 NaN          NaN\n",
              "2000-01-31  453.207143  464.285714  ...                 NaN          NaN\n",
              "\n",
              "[20 rows x 12 columns]"
            ]
          },
          "metadata": {
            "tags": []
          },
          "execution_count": 6
        }
      ]
    },
    {
      "cell_type": "code",
      "metadata": {
        "colab": {
          "base_uri": "https://localhost:8080/",
          "height": 405
        },
        "id": "cibtPh7SD4Ta",
        "outputId": "9f3df8a0-8d53-43bc-eecb-24e1f21d3550"
      },
      "source": [
        "dataset['Open'].plot(figsize=(16,6))\n",
        "dataset.rolling(window=30).mean()['Close'].plot()"
      ],
      "execution_count": 7,
      "outputs": [
        {
          "output_type": "execute_result",
          "data": {
            "text/plain": [
              "<matplotlib.axes._subplots.AxesSubplot at 0x7fbaa486a050>"
            ]
          },
          "metadata": {
            "tags": []
          },
          "execution_count": 7
        },
        {
          "output_type": "display_data",
          "data": {
            "image/png": "[encoded data removed]",
            "text/plain": [
              "<Figure size 1152x432 with 1 Axes>"
            ]
          },
          "metadata": {
            "tags": [],
            "needs_background": "light"
          }
        }
      ]
    },
    {
      "cell_type": "code",
      "metadata": {
        "colab": {
          "base_uri": "https://localhost:8080/",
          "height": 405
        },
        "id": "QNGcduGLEOjA",
        "outputId": "a8b9b9e4-ccf2-48d1-a0ed-8e2f5aa916aa"
      },
      "source": [
        "dataset['Close: 30 Day Mean']=dataset['Close'].rolling(window=30).mean()\n",
        "dataset[['Close','Close: 30 Day Mean']].plot(figsize=(16,6))"
      ],
      "execution_count": 8,
      "outputs": [
        {
          "output_type": "execute_result",
          "data": {
            "text/plain": [
              "<matplotlib.axes._subplots.AxesSubplot at 0x7fbaa47c9a50>"
            ]
          },
          "metadata": {
            "tags": []
          },
          "execution_count": 8
        },
        {
          "output_type": "display_data",
          "data": {
            "image/png": "[encoded data removed]",
            "text/plain": [
              "<Figure size 1152x432 with 1 Axes>"
            ]
          },
          "metadata": {
            "tags": [],
            "needs_background": "light"
          }
        }
      ]
    },
    {
      "cell_type": "code",
      "metadata": {
        "colab": {
          "base_uri": "https://localhost:8080/",
          "height": 405
        },
        "id": "vzL-hgpYEi4d",
        "outputId": "ff3b834e-e6e5-419f-c804-2f0fc8bb0555"
      },
      "source": [
        "dataset['Close'].expanding(min_periods=1).mean().plot(figsize=(16,6))"
      ],
      "execution_count": 9,
      "outputs": [
        {
          "output_type": "execute_result",
          "data": {
            "text/plain": [
              "<matplotlib.axes._subplots.AxesSubplot at 0x7fbaa4758e10>"
            ]
          },
          "metadata": {
            "tags": []
          },
          "execution_count": 9
        },
        {
          "output_type": "display_data",
          "data": {
            "image/png": "[encoded data removed]",
            "text/plain": [
              "<Figure size 1152x432 with 1 Axes>"
            ]
          },
          "metadata": {
            "tags": [],
            "needs_background": "light"
          }
        }
      ]
    },
    {
      "cell_type": "code",
      "metadata": {
        "colab": {
          "base_uri": "https://localhost:8080/"
        },
        "id": "h3NS2w_KEsuz",
        "outputId": "c1b4db3b-faf3-4e64-d9bb-4710526d656e"
      },
      "source": [
        "training_set=dataset.iloc[:,4:5].values\n",
        "training_set"
      ],
      "execution_count": 10,
      "outputs": [
        {
          "output_type": "execute_result",
          "data": {
            "text/plain": [
              "array([[ 390.  ],\n",
              "       [ 392.  ],\n",
              "       [ 390.  ],\n",
              "       ...,\n",
              "       [2620.25],\n",
              "       [2642.  ],\n",
              "       [2605.8 ]])"
            ]
          },
          "metadata": {
            "tags": []
          },
          "execution_count": 10
        }
      ]
    },
    {
      "cell_type": "code",
      "metadata": {
        "colab": {
          "base_uri": "https://localhost:8080/"
        },
        "id": "e2VFZklbE5ei",
        "outputId": "98a10ee5-d306-49eb-ebc7-bf130029a4c1"
      },
      "source": [
        "from sklearn.preprocessing import MinMaxScaler\n",
        "sc=MinMaxScaler()\n",
        "training_set=sc.fit_transform(training_set)\n",
        "print(training_set)"
      ],
      "execution_count": 11,
      "outputs": [
        {
          "output_type": "stream",
          "text": [
            "[[0.03462838]\n",
            " [0.03502583]\n",
            " [0.03462838]\n",
            " ...\n",
            " [0.47784181]\n",
            " [0.48216415]\n",
            " [0.47497019]]\n"
          ],
          "name": "stdout"
        }
      ]
    },
    {
      "cell_type": "code",
      "metadata": {
        "colab": {
          "base_uri": "https://localhost:8080/"
        },
        "id": "4cHboSB2GSpV",
        "outputId": "497faf45-33c5-4df9-d71c-1402cf28efcf"
      },
      "source": [
        "X_train=training_set[0:5304]\n",
        "print(X_train)"
      ],
      "execution_count": 12,
      "outputs": [
        {
          "output_type": "stream",
          "text": [
            "[[0.03462838]\n",
            " [0.03502583]\n",
            " [0.03462838]\n",
            " ...\n",
            " [0.46884936]\n",
            " [0.46982313]\n",
            " [0.47784181]]\n"
          ],
          "name": "stdout"
        }
      ]
    },
    {
      "cell_type": "code",
      "metadata": {
        "colab": {
          "base_uri": "https://localhost:8080/"
        },
        "id": "o0JXqvK5Gzkg",
        "outputId": "ee00de34-ce4c-4073-a739-bf3816c413bd"
      },
      "source": [
        "y_train=training_set[1:5305]\n",
        "print(y_train)"
      ],
      "execution_count": 13,
      "outputs": [
        {
          "output_type": "stream",
          "text": [
            "[[0.03502583]\n",
            " [0.03462838]\n",
            " [0.03361486]\n",
            " ...\n",
            " [0.46982313]\n",
            " [0.47784181]\n",
            " [0.48216415]]\n"
          ],
          "name": "stdout"
        }
      ]
    },
    {
      "cell_type": "code",
      "metadata": {
        "colab": {
          "base_uri": "https://localhost:8080/"
        },
        "id": "trQSutzMKHmF",
        "outputId": "eeb511e6-a585-4922-e106-1655249cc539"
      },
      "source": [
        "X_train=np.reshape(X_train,(5304,1,1))\n",
        "X_train"
      ],
      "execution_count": 14,
      "outputs": [
        {
          "output_type": "execute_result",
          "data": {
            "text/plain": [
              "array([[[0.03462838]],\n",
              "\n",
              "       [[0.03502583]],\n",
              "\n",
              "       [[0.03462838]],\n",
              "\n",
              "       ...,\n",
              "\n",
              "       [[0.46884936]],\n",
              "\n",
              "       [[0.46982313]],\n",
              "\n",
              "       [[0.47784181]]])"
            ]
          },
          "metadata": {
            "tags": []
          },
          "execution_count": 14
        }
      ]
    },
    {
      "cell_type": "code",
      "metadata": {
        "id": "Hd_mcuYjMDzO"
      },
      "source": [
        "from keras.models import Sequential\n",
        "from keras.layers import Dense\n",
        "from keras.layers import LSTM\n",
        "from keras.layers import Dropout"
      ],
      "execution_count": 15,
      "outputs": []
    },
    {
      "cell_type": "code",
      "metadata": {
        "colab": {
          "base_uri": "https://localhost:8080/"
        },
        "id": "PvClFp-KMQIw",
        "outputId": "b977fd78-23f5-4992-97b0-32343f3b2bb0"
      },
      "source": [
        "regressor=Sequential()\n",
        "regressor.add(LSTM(units=50,return_sequences=True,input_shape=(1,1)))\n",
        "regressor.add(Dropout(0.2))\n",
        "regressor.add(LSTM(units=50,return_sequences=True))\n",
        "regressor.add(Dropout(0.2))\n",
        "regressor.add(LSTM(units=50,return_sequences=True))\n",
        "regressor.add(Dropout(0.2))\n",
        "regressor.add(LSTM(units=50))\n",
        "regressor.add(Dropout(0.2))\n",
        "regressor.add(Dense(units=1))\n",
        "regressor.compile(optimizer='adam',loss='mean_squared_error')\n",
        "regressor.fit(X_train,y_train,epochs=200,batch_size=32)"
      ],
      "execution_count": 16,
      "outputs": [
        {
          "output_type": "stream",
          "text": [
            "Epoch 1/200\n",
            "166/166 [==============================] - 7s 6ms/step - loss: 0.0447\n",
            "Epoch 2/200\n",
            "166/166 [==============================] - 1s 6ms/step - loss: 0.0020\n",
            "Epoch 3/200\n",
            "166/166 [==============================] - 1s 7ms/step - loss: 0.0015\n",
            "Epoch 4/200\n",
            "166/166 [==============================] - 1s 6ms/step - loss: 0.0013\n",
            "Epoch 5/200\n",
            "166/166 [==============================] - 1s 7ms/step - loss: 0.0012\n",
            "Epoch 6/200\n",
            "166/166 [==============================] - 1s 7ms/step - loss: 0.0013\n",
            "Epoch 7/200\n",
            "166/166 [==============================] - 1s 6ms/step - loss: 0.0010\n",
            "Epoch 8/200\n",
            "166/166 [==============================] - 1s 6ms/step - loss: 0.0014\n",
            "Epoch 9/200\n",
            "166/166 [==============================] - 1s 7ms/step - loss: 0.0012\n",
            "Epoch 10/200\n",
            "166/166 [==============================] - 1s 6ms/step - loss: 0.0012\n",
            "Epoch 11/200\n",
            "166/166 [==============================] - 1s 6ms/step - loss: 0.0011\n",
            "Epoch 12/200\n",
            "166/166 [==============================] - 1s 7ms/step - loss: 0.0012\n",
            "Epoch 13/200\n",
            "166/166 [==============================] - 1s 7ms/step - loss: 0.0010\n",
            "Epoch 14/200\n",
            "166/166 [==============================] - 1s 6ms/step - loss: 0.0012\n",
            "Epoch 15/200\n",
            "166/166 [==============================] - 1s 7ms/step - loss: 0.0011\n",
            "Epoch 16/200\n",
            "166/166 [==============================] - 1s 7ms/step - loss: 0.0010\n",
            "Epoch 17/200\n",
            "166/166 [==============================] - 1s 6ms/step - loss: 9.7459e-04\n",
            "Epoch 18/200\n",
            "166/166 [==============================] - 1s 7ms/step - loss: 9.2723e-04\n",
            "Epoch 19/200\n",
            "166/166 [==============================] - 1s 6ms/step - loss: 9.5643e-04\n",
            "Epoch 20/200\n",
            "166/166 [==============================] - 1s 6ms/step - loss: 0.0011\n",
            "Epoch 21/200\n",
            "166/166 [==============================] - 1s 6ms/step - loss: 0.0012\n",
            "Epoch 22/200\n",
            "166/166 [==============================] - 1s 7ms/step - loss: 9.4151e-04\n",
            "Epoch 23/200\n",
            "166/166 [==============================] - 1s 6ms/step - loss: 9.1950e-04\n",
            "Epoch 24/200\n",
            "166/166 [==============================] - 1s 6ms/step - loss: 0.0012\n",
            "Epoch 25/200\n",
            "166/166 [==============================] - 1s 7ms/step - loss: 9.9895e-04\n",
            "Epoch 26/200\n",
            "166/166 [==============================] - 1s 6ms/step - loss: 9.1074e-04\n",
            "Epoch 27/200\n",
            "166/166 [==============================] - 1s 6ms/step - loss: 0.0010\n",
            "Epoch 28/200\n",
            "166/166 [==============================] - 1s 6ms/step - loss: 0.0010\n",
            "Epoch 29/200\n",
            "166/166 [==============================] - 1s 6ms/step - loss: 8.9611e-04\n",
            "Epoch 30/200\n",
            "166/166 [==============================] - 1s 6ms/step - loss: 0.0013\n",
            "Epoch 31/200\n",
            "166/166 [==============================] - 1s 6ms/step - loss: 0.0010\n",
            "Epoch 32/200\n",
            "166/166 [==============================] - 1s 7ms/step - loss: 9.6853e-04\n",
            "Epoch 33/200\n",
            "166/166 [==============================] - 1s 6ms/step - loss: 9.1850e-04\n",
            "Epoch 34/200\n",
            "166/166 [==============================] - 1s 6ms/step - loss: 0.0011\n",
            "Epoch 35/200\n",
            "166/166 [==============================] - 1s 7ms/step - loss: 8.5248e-04\n",
            "Epoch 36/200\n",
            "166/166 [==============================] - 1s 6ms/step - loss: 9.9042e-04\n",
            "Epoch 37/200\n",
            "166/166 [==============================] - 1s 6ms/step - loss: 7.9531e-04\n",
            "Epoch 38/200\n",
            "166/166 [==============================] - 1s 7ms/step - loss: 9.2718e-04\n",
            "Epoch 39/200\n",
            "166/166 [==============================] - 1s 6ms/step - loss: 0.0011\n",
            "Epoch 40/200\n",
            "166/166 [==============================] - 1s 6ms/step - loss: 8.9121e-04\n",
            "Epoch 41/200\n",
            "166/166 [==============================] - 1s 7ms/step - loss: 0.0011\n",
            "Epoch 42/200\n",
            "166/166 [==============================] - 1s 6ms/step - loss: 7.9729e-04\n",
            "Epoch 43/200\n",
            "166/166 [==============================] - 1s 6ms/step - loss: 9.6392e-04\n",
            "Epoch 44/200\n",
            "166/166 [==============================] - 1s 7ms/step - loss: 0.0010\n",
            "Epoch 45/200\n",
            "166/166 [==============================] - 1s 7ms/step - loss: 0.0013\n",
            "Epoch 46/200\n",
            "166/166 [==============================] - 1s 6ms/step - loss: 0.0011\n",
            "Epoch 47/200\n",
            "166/166 [==============================] - 1s 6ms/step - loss: 9.8612e-04\n",
            "Epoch 48/200\n",
            "166/166 [==============================] - 1s 6ms/step - loss: 0.0011\n",
            "Epoch 49/200\n",
            "166/166 [==============================] - 1s 6ms/step - loss: 0.0010\n",
            "Epoch 50/200\n",
            "166/166 [==============================] - 1s 6ms/step - loss: 8.6262e-04\n",
            "Epoch 51/200\n",
            "166/166 [==============================] - 1s 7ms/step - loss: 9.3361e-04\n",
            "Epoch 52/200\n",
            "166/166 [==============================] - 1s 6ms/step - loss: 9.7475e-04\n",
            "Epoch 53/200\n",
            "166/166 [==============================] - 1s 6ms/step - loss: 9.2240e-04\n",
            "Epoch 54/200\n",
            "166/166 [==============================] - 1s 7ms/step - loss: 8.5528e-04\n",
            "Epoch 55/200\n",
            "166/166 [==============================] - 1s 6ms/step - loss: 9.7072e-04\n",
            "Epoch 56/200\n",
            "166/166 [==============================] - 1s 7ms/step - loss: 9.8840e-04\n",
            "Epoch 57/200\n",
            "166/166 [==============================] - 1s 7ms/step - loss: 9.9205e-04\n",
            "Epoch 58/200\n",
            "166/166 [==============================] - 1s 6ms/step - loss: 8.4893e-04\n",
            "Epoch 59/200\n",
            "166/166 [==============================] - 1s 6ms/step - loss: 9.8215e-04\n",
            "Epoch 60/200\n",
            "166/166 [==============================] - 1s 6ms/step - loss: 8.9852e-04\n",
            "Epoch 61/200\n",
            "166/166 [==============================] - 1s 6ms/step - loss: 0.0011\n",
            "Epoch 62/200\n",
            "166/166 [==============================] - 1s 6ms/step - loss: 7.6160e-04\n",
            "Epoch 63/200\n",
            "166/166 [==============================] - 1s 7ms/step - loss: 0.0013\n",
            "Epoch 64/200\n",
            "166/166 [==============================] - 1s 7ms/step - loss: 8.9631e-04\n",
            "Epoch 65/200\n",
            "166/166 [==============================] - 1s 6ms/step - loss: 8.3486e-04\n",
            "Epoch 66/200\n",
            "166/166 [==============================] - 1s 6ms/step - loss: 7.6733e-04\n",
            "Epoch 67/200\n",
            "166/166 [==============================] - 1s 7ms/step - loss: 8.3371e-04\n",
            "Epoch 68/200\n",
            "166/166 [==============================] - 1s 6ms/step - loss: 7.8914e-04\n",
            "Epoch 69/200\n",
            "166/166 [==============================] - 1s 7ms/step - loss: 8.9979e-04\n",
            "Epoch 70/200\n",
            "166/166 [==============================] - 1s 7ms/step - loss: 9.1521e-04\n",
            "Epoch 71/200\n",
            "166/166 [==============================] - 1s 7ms/step - loss: 9.9497e-04\n",
            "Epoch 72/200\n",
            "166/166 [==============================] - 1s 7ms/step - loss: 9.5135e-04\n",
            "Epoch 73/200\n",
            "166/166 [==============================] - 1s 7ms/step - loss: 7.7000e-04\n",
            "Epoch 74/200\n",
            "166/166 [==============================] - 1s 6ms/step - loss: 0.0011\n",
            "Epoch 75/200\n",
            "166/166 [==============================] - 1s 6ms/step - loss: 8.6184e-04\n",
            "Epoch 76/200\n",
            "166/166 [==============================] - 1s 7ms/step - loss: 8.2103e-04\n",
            "Epoch 77/200\n",
            "166/166 [==============================] - 1s 6ms/step - loss: 7.4714e-04\n",
            "Epoch 78/200\n",
            "166/166 [==============================] - 1s 6ms/step - loss: 7.7852e-04\n",
            "Epoch 79/200\n",
            "166/166 [==============================] - 1s 7ms/step - loss: 8.5482e-04\n",
            "Epoch 80/200\n",
            "166/166 [==============================] - 1s 7ms/step - loss: 9.4406e-04\n",
            "Epoch 81/200\n",
            "166/166 [==============================] - 1s 6ms/step - loss: 0.0011\n",
            "Epoch 82/200\n",
            "166/166 [==============================] - 1s 6ms/step - loss: 9.8226e-04\n",
            "Epoch 83/200\n",
            "166/166 [==============================] - 1s 7ms/step - loss: 9.5543e-04\n",
            "Epoch 84/200\n",
            "166/166 [==============================] - 1s 6ms/step - loss: 9.2479e-04\n",
            "Epoch 85/200\n",
            "166/166 [==============================] - 1s 6ms/step - loss: 9.1851e-04\n",
            "Epoch 86/200\n",
            "166/166 [==============================] - 1s 7ms/step - loss: 7.5664e-04\n",
            "Epoch 87/200\n",
            "166/166 [==============================] - 1s 6ms/step - loss: 7.4289e-04\n",
            "Epoch 88/200\n",
            "166/166 [==============================] - 1s 7ms/step - loss: 0.0011\n",
            "Epoch 89/200\n",
            "166/166 [==============================] - 1s 7ms/step - loss: 8.4383e-04\n",
            "Epoch 90/200\n",
            "166/166 [==============================] - 1s 6ms/step - loss: 7.6760e-04\n",
            "Epoch 91/200\n",
            "166/166 [==============================] - 1s 6ms/step - loss: 8.0100e-04\n",
            "Epoch 92/200\n",
            "166/166 [==============================] - 1s 7ms/step - loss: 9.9804e-04\n",
            "Epoch 93/200\n",
            "166/166 [==============================] - 1s 6ms/step - loss: 8.3638e-04\n",
            "Epoch 94/200\n",
            "166/166 [==============================] - 1s 6ms/step - loss: 7.6637e-04\n",
            "Epoch 95/200\n",
            "166/166 [==============================] - 1s 7ms/step - loss: 8.1493e-04\n",
            "Epoch 96/200\n",
            "166/166 [==============================] - 1s 7ms/step - loss: 8.8367e-04\n",
            "Epoch 97/200\n",
            "166/166 [==============================] - 1s 6ms/step - loss: 8.1602e-04\n",
            "Epoch 98/200\n",
            "166/166 [==============================] - 1s 7ms/step - loss: 0.0011\n",
            "Epoch 99/200\n",
            "166/166 [==============================] - 1s 7ms/step - loss: 7.1921e-04\n",
            "Epoch 100/200\n",
            "166/166 [==============================] - 1s 6ms/step - loss: 8.5259e-04\n",
            "Epoch 101/200\n",
            "166/166 [==============================] - 1s 7ms/step - loss: 6.8926e-04\n",
            "Epoch 102/200\n",
            "166/166 [==============================] - 1s 7ms/step - loss: 7.3635e-04\n",
            "Epoch 103/200\n",
            "166/166 [==============================] - 1s 6ms/step - loss: 7.9779e-04\n",
            "Epoch 104/200\n",
            "166/166 [==============================] - 1s 6ms/step - loss: 0.0010\n",
            "Epoch 105/200\n",
            "166/166 [==============================] - 1s 7ms/step - loss: 8.6738e-04\n",
            "Epoch 106/200\n",
            "166/166 [==============================] - 1s 7ms/step - loss: 8.0146e-04\n",
            "Epoch 107/200\n",
            "166/166 [==============================] - 1s 7ms/step - loss: 7.6509e-04\n",
            "Epoch 108/200\n",
            "166/166 [==============================] - 1s 7ms/step - loss: 7.4312e-04\n",
            "Epoch 109/200\n",
            "166/166 [==============================] - 1s 6ms/step - loss: 6.7859e-04\n",
            "Epoch 110/200\n",
            "166/166 [==============================] - 1s 6ms/step - loss: 8.1711e-04\n",
            "Epoch 111/200\n",
            "166/166 [==============================] - 1s 7ms/step - loss: 7.1616e-04\n",
            "Epoch 112/200\n",
            "166/166 [==============================] - 1s 6ms/step - loss: 7.4096e-04\n",
            "Epoch 113/200\n",
            "166/166 [==============================] - 1s 6ms/step - loss: 7.3754e-04\n",
            "Epoch 114/200\n",
            "166/166 [==============================] - 1s 7ms/step - loss: 0.0010\n",
            "Epoch 115/200\n",
            "166/166 [==============================] - 1s 7ms/step - loss: 8.0969e-04\n",
            "Epoch 116/200\n",
            "166/166 [==============================] - 1s 6ms/step - loss: 6.8740e-04\n",
            "Epoch 117/200\n",
            "166/166 [==============================] - 1s 7ms/step - loss: 9.4423e-04\n",
            "Epoch 118/200\n",
            "166/166 [==============================] - 1s 7ms/step - loss: 7.3895e-04\n",
            "Epoch 119/200\n",
            "166/166 [==============================] - 1s 7ms/step - loss: 8.9828e-04\n",
            "Epoch 120/200\n",
            "166/166 [==============================] - 1s 7ms/step - loss: 7.3214e-04\n",
            "Epoch 121/200\n",
            "166/166 [==============================] - 1s 7ms/step - loss: 6.9746e-04\n",
            "Epoch 122/200\n",
            "166/166 [==============================] - 1s 6ms/step - loss: 9.9168e-04\n",
            "Epoch 123/200\n",
            "166/166 [==============================] - 1s 7ms/step - loss: 7.4829e-04\n",
            "Epoch 124/200\n",
            "166/166 [==============================] - 1s 7ms/step - loss: 7.4563e-04\n",
            "Epoch 125/200\n",
            "166/166 [==============================] - 1s 7ms/step - loss: 6.5387e-04\n",
            "Epoch 126/200\n",
            "166/166 [==============================] - 1s 7ms/step - loss: 8.7776e-04\n",
            "Epoch 127/200\n",
            "166/166 [==============================] - 1s 7ms/step - loss: 7.7640e-04\n",
            "Epoch 128/200\n",
            "166/166 [==============================] - 1s 7ms/step - loss: 6.7929e-04\n",
            "Epoch 129/200\n",
            "166/166 [==============================] - 1s 7ms/step - loss: 7.1846e-04\n",
            "Epoch 130/200\n",
            "166/166 [==============================] - 1s 7ms/step - loss: 7.8282e-04\n",
            "Epoch 131/200\n",
            "166/166 [==============================] - 1s 6ms/step - loss: 6.7046e-04\n",
            "Epoch 132/200\n",
            "166/166 [==============================] - 1s 6ms/step - loss: 8.8571e-04\n",
            "Epoch 133/200\n",
            "166/166 [==============================] - 1s 7ms/step - loss: 6.2487e-04\n",
            "Epoch 134/200\n",
            "166/166 [==============================] - 1s 6ms/step - loss: 0.0011\n",
            "Epoch 135/200\n",
            "166/166 [==============================] - 1s 7ms/step - loss: 7.8362e-04\n",
            "Epoch 136/200\n",
            "166/166 [==============================] - 1s 7ms/step - loss: 8.3489e-04\n",
            "Epoch 137/200\n",
            "166/166 [==============================] - 1s 6ms/step - loss: 0.0014\n",
            "Epoch 138/200\n",
            "166/166 [==============================] - 1s 6ms/step - loss: 6.6646e-04\n",
            "Epoch 139/200\n",
            "166/166 [==============================] - 1s 7ms/step - loss: 6.3400e-04\n",
            "Epoch 140/200\n",
            "166/166 [==============================] - 1s 6ms/step - loss: 6.8793e-04\n",
            "Epoch 141/200\n",
            "166/166 [==============================] - 1s 6ms/step - loss: 7.0087e-04\n",
            "Epoch 142/200\n",
            "166/166 [==============================] - 1s 7ms/step - loss: 7.5723e-04\n",
            "Epoch 143/200\n",
            "166/166 [==============================] - 1s 7ms/step - loss: 6.4794e-04\n",
            "Epoch 144/200\n",
            "166/166 [==============================] - 1s 6ms/step - loss: 6.3345e-04\n",
            "Epoch 145/200\n",
            "166/166 [==============================] - 1s 7ms/step - loss: 6.6138e-04\n",
            "Epoch 146/200\n",
            "166/166 [==============================] - 1s 7ms/step - loss: 0.0010\n",
            "Epoch 147/200\n",
            "166/166 [==============================] - 1s 7ms/step - loss: 7.4236e-04\n",
            "Epoch 148/200\n",
            "166/166 [==============================] - 1s 6ms/step - loss: 6.6242e-04\n",
            "Epoch 149/200\n",
            "166/166 [==============================] - 1s 6ms/step - loss: 9.0597e-04\n",
            "Epoch 150/200\n",
            "166/166 [==============================] - 1s 7ms/step - loss: 8.1396e-04\n",
            "Epoch 151/200\n",
            "166/166 [==============================] - 1s 7ms/step - loss: 6.2216e-04\n",
            "Epoch 152/200\n",
            "166/166 [==============================] - 1s 7ms/step - loss: 0.0011\n",
            "Epoch 153/200\n",
            "166/166 [==============================] - 1s 6ms/step - loss: 6.7515e-04\n",
            "Epoch 154/200\n",
            "166/166 [==============================] - 1s 6ms/step - loss: 7.0604e-04\n",
            "Epoch 155/200\n",
            "166/166 [==============================] - 1s 7ms/step - loss: 7.5788e-04\n",
            "Epoch 156/200\n",
            "166/166 [==============================] - 1s 7ms/step - loss: 7.2412e-04\n",
            "Epoch 157/200\n",
            "166/166 [==============================] - 1s 6ms/step - loss: 6.8604e-04\n",
            "Epoch 158/200\n",
            "166/166 [==============================] - 1s 7ms/step - loss: 7.2746e-04\n",
            "Epoch 159/200\n",
            "166/166 [==============================] - 1s 7ms/step - loss: 6.7325e-04\n",
            "Epoch 160/200\n",
            "166/166 [==============================] - 1s 7ms/step - loss: 6.7726e-04\n",
            "Epoch 161/200\n",
            "166/166 [==============================] - 1s 7ms/step - loss: 9.2833e-04\n",
            "Epoch 162/200\n",
            "166/166 [==============================] - 1s 7ms/step - loss: 7.7628e-04\n",
            "Epoch 163/200\n",
            "166/166 [==============================] - 1s 7ms/step - loss: 7.3091e-04\n",
            "Epoch 164/200\n",
            "166/166 [==============================] - 1s 7ms/step - loss: 6.9274e-04\n",
            "Epoch 165/200\n",
            "166/166 [==============================] - 1s 7ms/step - loss: 0.0011\n",
            "Epoch 166/200\n",
            "166/166 [==============================] - 1s 7ms/step - loss: 7.8259e-04\n",
            "Epoch 167/200\n",
            "166/166 [==============================] - 1s 7ms/step - loss: 8.3565e-04\n",
            "Epoch 168/200\n",
            "166/166 [==============================] - 1s 7ms/step - loss: 6.4582e-04\n",
            "Epoch 169/200\n",
            "166/166 [==============================] - 1s 7ms/step - loss: 6.7203e-04\n",
            "Epoch 170/200\n",
            "166/166 [==============================] - 1s 7ms/step - loss: 7.4968e-04\n",
            "Epoch 171/200\n",
            "166/166 [==============================] - 1s 7ms/step - loss: 7.9059e-04\n",
            "Epoch 172/200\n",
            "166/166 [==============================] - 1s 7ms/step - loss: 0.0012\n",
            "Epoch 173/200\n",
            "166/166 [==============================] - 1s 7ms/step - loss: 6.5878e-04\n",
            "Epoch 174/200\n",
            "166/166 [==============================] - 1s 7ms/step - loss: 8.9951e-04\n",
            "Epoch 175/200\n",
            "166/166 [==============================] - 1s 7ms/step - loss: 6.6916e-04\n",
            "Epoch 176/200\n",
            "166/166 [==============================] - 1s 7ms/step - loss: 7.1993e-04\n",
            "Epoch 177/200\n",
            "166/166 [==============================] - 1s 7ms/step - loss: 6.5379e-04\n",
            "Epoch 178/200\n",
            "166/166 [==============================] - 1s 7ms/step - loss: 6.6305e-04\n",
            "Epoch 179/200\n",
            "166/166 [==============================] - 1s 7ms/step - loss: 6.1030e-04\n",
            "Epoch 180/200\n",
            "166/166 [==============================] - 1s 7ms/step - loss: 0.0011\n",
            "Epoch 181/200\n",
            "166/166 [==============================] - 1s 7ms/step - loss: 6.3561e-04\n",
            "Epoch 182/200\n",
            "166/166 [==============================] - 1s 7ms/step - loss: 7.5734e-04\n",
            "Epoch 183/200\n",
            "166/166 [==============================] - 1s 7ms/step - loss: 7.6460e-04\n",
            "Epoch 184/200\n",
            "166/166 [==============================] - 1s 7ms/step - loss: 7.5460e-04\n",
            "Epoch 185/200\n",
            "166/166 [==============================] - 1s 7ms/step - loss: 0.0011\n",
            "Epoch 186/200\n",
            "166/166 [==============================] - 1s 7ms/step - loss: 7.2797e-04\n",
            "Epoch 187/200\n",
            "166/166 [==============================] - 1s 7ms/step - loss: 7.3855e-04\n",
            "Epoch 188/200\n",
            "166/166 [==============================] - 1s 7ms/step - loss: 6.2431e-04\n",
            "Epoch 189/200\n",
            "166/166 [==============================] - 1s 7ms/step - loss: 6.4352e-04\n",
            "Epoch 190/200\n",
            "166/166 [==============================] - 1s 7ms/step - loss: 8.0738e-04\n",
            "Epoch 191/200\n",
            "166/166 [==============================] - 1s 7ms/step - loss: 7.8757e-04\n",
            "Epoch 192/200\n",
            "166/166 [==============================] - 1s 7ms/step - loss: 9.6956e-04\n",
            "Epoch 193/200\n",
            "166/166 [==============================] - 1s 7ms/step - loss: 6.1150e-04\n",
            "Epoch 194/200\n",
            "166/166 [==============================] - 1s 7ms/step - loss: 8.5540e-04\n",
            "Epoch 195/200\n",
            "166/166 [==============================] - 1s 7ms/step - loss: 6.5668e-04\n",
            "Epoch 196/200\n",
            "166/166 [==============================] - 1s 7ms/step - loss: 6.5659e-04\n",
            "Epoch 197/200\n",
            "166/166 [==============================] - 1s 7ms/step - loss: 5.7493e-04\n",
            "Epoch 198/200\n",
            "166/166 [==============================] - 1s 7ms/step - loss: 8.2892e-04\n",
            "Epoch 199/200\n",
            "166/166 [==============================] - 1s 7ms/step - loss: 6.7283e-04\n",
            "Epoch 200/200\n",
            "166/166 [==============================] - 1s 7ms/step - loss: 9.5222e-04\n"
          ],
          "name": "stdout"
        },
        {
          "output_type": "execute_result",
          "data": {
            "text/plain": [
              "<tensorflow.python.keras.callbacks.History at 0x7fba6249a810>"
            ]
          },
          "metadata": {
            "tags": []
          },
          "execution_count": 16
        }
      ]
    },
    {
      "cell_type": "code",
      "metadata": {
        "colab": {
          "base_uri": "https://localhost:8080/"
        },
        "id": "C2LbCo7XkOls",
        "outputId": "963c822e-66ed-45ea-a046-0baa9354ec3a"
      },
      "source": [
        "X_test=training_set[-50:]\n",
        "X_test=np.reshape(X_test,(50,1,1))\n",
        "print(X_test)"
      ],
      "execution_count": 17,
      "outputs": [
        {
          "output_type": "stream",
          "text": [
            "[[[0.4574225 ]]\n",
            "\n",
            " [[0.44899642]]\n",
            "\n",
            " [[0.44501192]]\n",
            "\n",
            " [[0.4498907 ]]\n",
            "\n",
            " [[0.44816176]]\n",
            "\n",
            " [[0.44361089]]\n",
            "\n",
            " [[0.43407194]]\n",
            "\n",
            " [[0.43593005]]\n",
            "\n",
            " [[0.43133943]]\n",
            "\n",
            " [[0.42612281]]\n",
            "\n",
            " [[0.42809022]]\n",
            "\n",
            " [[0.4345787 ]]\n",
            "\n",
            " [[0.43758943]]\n",
            "\n",
            " [[0.44102742]]\n",
            "\n",
            " [[0.43882154]]\n",
            "\n",
            " [[0.43675477]]\n",
            "\n",
            " [[0.44281598]]\n",
            "\n",
            " [[0.44321343]]\n",
            "\n",
            " [[0.44691971]]\n",
            "\n",
            " [[0.4395469 ]]\n",
            "\n",
            " [[0.44997019]]\n",
            "\n",
            " [[0.44599563]]\n",
            "\n",
            " [[0.44775437]]\n",
            "\n",
            " [[0.4408287 ]]\n",
            "\n",
            " [[0.44164348]]\n",
            "\n",
            " [[0.44081876]]\n",
            "\n",
            " [[0.44798291]]\n",
            "\n",
            " [[0.44778418]]\n",
            "\n",
            " [[0.45671701]]\n",
            "\n",
            " [[0.47052862]]\n",
            "\n",
            " [[0.47042925]]\n",
            "\n",
            " [[0.46677266]]\n",
            "\n",
            " [[0.46547099]]\n",
            "\n",
            " [[0.47779213]]\n",
            "\n",
            " [[0.48734102]]\n",
            "\n",
            " [[0.48542329]]\n",
            "\n",
            " [[0.48474762]]\n",
            "\n",
            " [[0.47580485]]\n",
            "\n",
            " [[0.4789845 ]]\n",
            "\n",
            " [[0.47253577]]\n",
            "\n",
            " [[0.49239865]]\n",
            "\n",
            " [[0.48375397]]\n",
            "\n",
            " [[0.47475159]]\n",
            "\n",
            " [[0.46527226]]\n",
            "\n",
            " [[0.46686208]]\n",
            "\n",
            " [[0.46884936]]\n",
            "\n",
            " [[0.46982313]]\n",
            "\n",
            " [[0.47784181]]\n",
            "\n",
            " [[0.48216415]]\n",
            "\n",
            " [[0.47497019]]]\n"
          ],
          "name": "stdout"
        }
      ]
    },
    {
      "cell_type": "code",
      "metadata": {
        "colab": {
          "base_uri": "https://localhost:8080/"
        },
        "id": "tQWmstevkaGF",
        "outputId": "23345a5f-d795-4acc-feac-22d205ea47c5"
      },
      "source": [
        "y_test=training_set[-50:]\n",
        "print(y_test)"
      ],
      "execution_count": 18,
      "outputs": [
        {
          "output_type": "stream",
          "text": [
            "[[0.4574225 ]\n",
            " [0.44899642]\n",
            " [0.44501192]\n",
            " [0.4498907 ]\n",
            " [0.44816176]\n",
            " [0.44361089]\n",
            " [0.43407194]\n",
            " [0.43593005]\n",
            " [0.43133943]\n",
            " [0.42612281]\n",
            " [0.42809022]\n",
            " [0.4345787 ]\n",
            " [0.43758943]\n",
            " [0.44102742]\n",
            " [0.43882154]\n",
            " [0.43675477]\n",
            " [0.44281598]\n",
            " [0.44321343]\n",
            " [0.44691971]\n",
            " [0.4395469 ]\n",
            " [0.44997019]\n",
            " [0.44599563]\n",
            " [0.44775437]\n",
            " [0.4408287 ]\n",
            " [0.44164348]\n",
            " [0.44081876]\n",
            " [0.44798291]\n",
            " [0.44778418]\n",
            " [0.45671701]\n",
            " [0.47052862]\n",
            " [0.47042925]\n",
            " [0.46677266]\n",
            " [0.46547099]\n",
            " [0.47779213]\n",
            " [0.48734102]\n",
            " [0.48542329]\n",
            " [0.48474762]\n",
            " [0.47580485]\n",
            " [0.4789845 ]\n",
            " [0.47253577]\n",
            " [0.49239865]\n",
            " [0.48375397]\n",
            " [0.47475159]\n",
            " [0.46527226]\n",
            " [0.46686208]\n",
            " [0.46884936]\n",
            " [0.46982313]\n",
            " [0.47784181]\n",
            " [0.48216415]\n",
            " [0.47497019]]\n"
          ],
          "name": "stdout"
        }
      ]
    },
    {
      "cell_type": "code",
      "metadata": {
        "colab": {
          "base_uri": "https://localhost:8080/"
        },
        "id": "oBCGSkxvkfBb",
        "outputId": "9c245434-f537-46c1-a9df-4c47a9e498b0"
      },
      "source": [
        "y_pred=regressor.predict(X_test)\n",
        "print(np.concatenate((y_pred.reshape(len(y_pred),1), y_test.reshape(len(y_test),1)),1))"
      ],
      "execution_count": 19,
      "outputs": [
        {
          "output_type": "stream",
          "text": [
            "[[0.47036439 0.4574225 ]\n",
            " [0.46245876 0.44899642]\n",
            " [0.45870873 0.44501192]\n",
            " [0.46329933 0.4498907 ]\n",
            " [0.46167383 0.44816176]\n",
            " [0.45738828 0.44361089]\n",
            " [0.44837111 0.43407194]\n",
            " [0.45013136 0.43593005]\n",
            " [0.44577914 0.43133943]\n",
            " [0.44081926 0.42612281]\n",
            " [0.44269162 0.42809022]\n",
            " [0.44885141 0.4345787 ]\n",
            " [0.45170179 0.43758943]\n",
            " [0.45495084 0.44102742]\n",
            " [0.45286691 0.43882154]\n",
            " [0.45091206 0.43675477]\n",
            " [0.45663869 0.44281598]\n",
            " [0.45701355 0.44321343]\n",
            " [0.46050522 0.44691971]\n",
            " [0.45355248 0.4395469 ]\n",
            " [0.46337405 0.44997019]\n",
            " [0.45963526 0.44599563]\n",
            " [0.46129066 0.44775437]\n",
            " [0.45476323 0.4408287 ]\n",
            " [0.45553237 0.44164348]\n",
            " [0.45475379 0.44081876]\n",
            " [0.46150565 0.44798291]\n",
            " [0.4613187  0.44778418]\n",
            " [0.46970367 0.45671701]\n",
            " [0.48260149 0.47052862]\n",
            " [0.48250899 0.47042925]\n",
            " [0.47910133 0.46677266]\n",
            " [0.47788715 0.46547099]\n",
            " [0.48935694 0.47779213]\n",
            " [0.49821517 0.48734102]\n",
            " [0.49643788 0.48542329]\n",
            " [0.49581146 0.48474762]\n",
            " [0.48751026 0.47580485]\n",
            " [0.49046433 0.4789845 ]\n",
            " [0.48446998 0.47253577]\n",
            " [0.50289899 0.49239865]\n",
            " [0.49489018 0.48375397]\n",
            " [0.48653108 0.47475159]\n",
            " [0.47770166 0.46527226]\n",
            " [0.47918475 0.46686208]\n",
            " [0.48103726 0.46884936]\n",
            " [0.4819445  0.46982313]\n",
            " [0.48940304 0.47784181]\n",
            " [0.4934155  0.48216415]\n",
            " [0.48673433 0.47497019]]\n"
          ],
          "name": "stdout"
        }
      ]
    },
    {
      "cell_type": "code",
      "metadata": {
        "colab": {
          "base_uri": "https://localhost:8080/",
          "height": 404
        },
        "id": "GwqM0yIflOIu",
        "outputId": "907c749c-bef0-43cb-b77c-dcbee3f2cf4a"
      },
      "source": [
        "plt.figure(figsize=(16,6))\n",
        "plt.plot(sc.inverse_transform(y_test),color='red',label='Real AsianPaint stock price')\n",
        "plt.plot(sc.inverse_transform(y_pred),color='blue',label='Predicted AsianPaint stock price')\n",
        "plt.title('Asian Paint Stock Prediction')\n",
        "plt.xlabel('Time')\n",
        "plt.ylabel('Asian Paint Stock Price')\n",
        "plt.legend()\n",
        "plt.show()"
      ],
      "execution_count": 20,
      "outputs": [
        {
          "output_type": "display_data",
          "data": {
            "image/png": "[encoded data removed]",
            "text/plain": [
              "<Figure size 1152x432 with 1 Axes>"
            ]
          },
          "metadata": {
            "tags": [],
            "needs_background": "light"
          }
        }
      ]
    }
  ]
}