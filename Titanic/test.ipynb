{
 "cells": [
  {
   "cell_type": "markdown",
   "metadata": {
    "colab_type": "text",
    "id": "vN99YjPTDena"
   },
   "source": [
    "# Polynomial Regression"
   ]
  },
  {
   "cell_type": "markdown",
   "metadata": {
    "colab_type": "text",
    "id": "ZIx_naXnDyHd"
   },
   "source": [
    "## Importing the libraries"
   ]
  },
  {
   "cell_type": "code",
   "execution_count": 2,
   "metadata": {
    "colab": {},
    "colab_type": "code",
    "id": "FjnmdyPLD2tS"
   },
   "outputs": [],
   "source": [
    "import numpy as np\n",
    "import matplotlib.pyplot as plt\n",
    "import pandas as pd"
   ]
  },
  {
   "cell_type": "markdown",
   "metadata": {
    "colab_type": "text",
    "id": "6c8YExmOD5x5"
   },
   "source": [
    "## Importing the dataset"
   ]
  },
  {
   "cell_type": "code",
   "execution_count": 3,
   "metadata": {
    "colab": {},
    "colab_type": "code",
    "id": "nQOdXhjXD_AE"
   },
   "outputs": [],
   "source": [
    "dataset = pd.read_csv('tested.csv')\n",
    "X = dataset.iloc[:, 2:].values\n",
    "y = dataset.iloc[:, 1].values"
   ]
  },
  {
   "cell_type": "code",
   "execution_count": 4,
   "metadata": {},
   "outputs": [
    {
     "name": "stdout",
     "output_type": "stream",
     "text": [
      "[[3 'Kelly, Mr. James' 'male' ... 7.8292 nan 'Q']\n",
      " [3 'Wilkes, Mrs. James (Ellen Needs)' 'female' ... 7.0 nan 'S']\n",
      " [2 'Myles, Mr. Thomas Francis' 'male' ... 9.6875 nan 'Q']\n",
      " ...\n",
      " [3 'Saether, Mr. Simon Sivertsen' 'male' ... 7.25 nan 'S']\n",
      " [3 'Ware, Mr. Frederick' 'male' ... 8.05 nan 'S']\n",
      " [3 'Peter, Master. Michael J' 'male' ... 22.3583 nan 'C']]\n"
     ]
    }
   ],
   "source": [
    "print(X)"
   ]
  },
  {
   "cell_type": "code",
   "execution_count": 5,
   "metadata": {},
   "outputs": [
    {
     "name": "stdout",
     "output_type": "stream",
     "text": [
      "[0 1 0 0 1 0 1 0 1 0 0 0 1 0 1 1 0 0 1 1 0 0 1 0 1 0 1 0 0 0 0 0 1 1 0 0 1\n",
      " 1 0 0 0 0 0 1 1 0 0 0 1 1 0 0 1 1 0 0 0 0 0 1 0 0 0 1 0 1 1 0 0 1 1 0 1 0\n",
      " 1 0 0 1 0 1 0 0 0 0 0 0 1 1 1 0 1 0 1 0 0 0 1 0 1 0 1 0 0 0 1 0 0 0 0 0 0\n",
      " 1 1 1 1 0 0 1 0 1 1 0 1 0 0 1 0 1 0 0 0 0 1 0 0 0 0 0 1 0 1 1 0 0 0 0 0 0\n",
      " 0 0 1 0 0 1 0 0 1 1 0 1 1 0 1 0 0 1 0 0 1 1 0 0 0 0 0 1 1 0 1 1 0 0 1 0 1\n",
      " 0 1 0 1 0 0 0 0 0 0 0 0 1 0 1 1 0 0 1 0 0 1 0 1 0 0 0 0 1 1 0 1 0 1 0 1 0\n",
      " 1 0 1 1 0 1 0 0 0 1 0 0 0 0 0 0 1 1 1 1 0 0 0 0 1 0 1 1 1 0 0 0 0 0 0 0 1\n",
      " 0 0 0 1 1 0 0 0 0 1 0 0 0 1 1 0 1 0 0 0 0 1 0 1 1 1 0 0 0 0 0 0 1 0 0 0 0\n",
      " 1 0 0 0 0 0 0 0 1 1 0 0 0 1 0 0 0 1 1 1 0 0 0 0 0 0 0 0 1 0 1 0 0 0 1 0 0\n",
      " 1 0 0 0 0 0 0 0 0 0 1 0 1 0 1 0 1 1 0 0 0 1 0 1 0 0 1 0 1 1 0 1 1 0 1 1 0\n",
      " 0 1 0 0 1 1 1 0 0 0 0 0 1 1 0 1 0 0 0 0 0 1 0 0 0 1 0 1 0 0 1 0 1 0 0 0 0\n",
      " 0 1 1 1 1 1 0 1 0 0 0]\n"
     ]
    }
   ],
   "source": [
    "print(y)"
   ]
  },
  {
   "cell_type": "code",
   "execution_count": 6,
   "metadata": {},
   "outputs": [],
   "source": [
    "X=np.delete(X,1,1)"
   ]
  },
  {
   "cell_type": "code",
   "execution_count": 7,
   "metadata": {},
   "outputs": [],
   "source": [
    "X=np.delete(X,5,1)"
   ]
  },
  {
   "cell_type": "code",
   "execution_count": 8,
   "metadata": {},
   "outputs": [],
   "source": [
    "X=np.delete(X,6,1)"
   ]
  },
  {
   "cell_type": "code",
   "execution_count": 9,
   "metadata": {},
   "outputs": [
    {
     "name": "stdout",
     "output_type": "stream",
     "text": [
      "[[3 'male' 34.5 ... 0 7.8292 'Q']\n",
      " [3 'female' 47.0 ... 0 7.0 'S']\n",
      " [2 'male' 62.0 ... 0 9.6875 'Q']\n",
      " ...\n",
      " [3 'male' 38.5 ... 0 7.25 'S']\n",
      " [3 'male' nan ... 0 8.05 'S']\n",
      " [3 'male' nan ... 1 22.3583 'C']]\n"
     ]
    }
   ],
   "source": [
    "print(X)"
   ]
  },
  {
   "cell_type": "code",
   "execution_count": 10,
   "metadata": {},
   "outputs": [],
   "source": [
    "from sklearn.impute import SimpleImputer\n",
    "imputer = SimpleImputer(missing_values=np.nan, strategy='mean')\n",
    "imputer.fit(X[:,2:6])\n",
    "X[:,2:6] = imputer.transform(X[:,2:6])"
   ]
  },
  {
   "cell_type": "code",
   "execution_count": 11,
   "metadata": {},
   "outputs": [],
   "source": [
    "from sklearn.compose import ColumnTransformer\n",
    "from sklearn.preprocessing import OneHotEncoder\n",
    "ct=ColumnTransformer(transformers=[('encoder', OneHotEncoder(), [1])] ,remainder='passthrough')\n",
    "X =np.array(ct.fit_transform(X))"
   ]
  },
  {
   "cell_type": "code",
   "execution_count": 12,
   "metadata": {},
   "outputs": [],
   "source": [
    "from sklearn.compose import ColumnTransformer\n",
    "from sklearn.preprocessing import OneHotEncoder\n",
    "ct=ColumnTransformer(transformers=[('encoder', OneHotEncoder(), [7])] ,remainder='passthrough')\n",
    "X =np.array(ct.fit_transform(X))"
   ]
  },
  {
   "cell_type": "code",
   "execution_count": 13,
   "metadata": {},
   "outputs": [
    {
     "name": "stdout",
     "output_type": "stream",
     "text": [
      "[[0.0 1.0 0.0 ... 0.0 0.0 7.8292]\n",
      " [0.0 0.0 1.0 ... 1.0 0.0 7.0]\n",
      " [0.0 1.0 0.0 ... 0.0 0.0 9.6875]\n",
      " ...\n",
      " [0.0 0.0 1.0 ... 0.0 0.0 7.25]\n",
      " [0.0 0.0 1.0 ... 0.0 0.0 8.05]\n",
      " [1.0 0.0 0.0 ... 1.0 1.0 22.3583]]\n"
     ]
    }
   ],
   "source": [
    "print(X)"
   ]
  },
  {
   "cell_type": "markdown",
   "metadata": {
    "colab_type": "text",
    "id": "Ud_1XTb28iXH"
   },
   "source": [
    "## Splitting the dataset into the Training set and Test set"
   ]
  },
  {
   "cell_type": "code",
   "execution_count": 14,
   "metadata": {
    "colab": {},
    "colab_type": "code",
    "id": "bUib_pbl8ipB"
   },
   "outputs": [],
   "source": [
    "from sklearn.model_selection import train_test_split\n",
    "X_train, X_test, y_train, y_test = train_test_split(X, y, test_size = 0.2, random_state = 0)"
   ]
  },
  {
   "cell_type": "markdown",
   "metadata": {
    "colab_type": "text",
    "id": "Rb5nWuSHEfBV"
   },
   "source": [
    "## Training the Polynomial Regression model on the Training set"
   ]
  },
  {
   "cell_type": "code",
   "execution_count": 15,
   "metadata": {
    "colab": {},
    "colab_type": "code",
    "id": "HYplp4pTEm0O"
   },
   "outputs": [
    {
     "data": {
      "text/plain": [
       "LinearRegression()"
      ]
     },
     "execution_count": 15,
     "metadata": {},
     "output_type": "execute_result"
    }
   ],
   "source": [
    "from sklearn.preprocessing import PolynomialFeatures\n",
    "from sklearn.linear_model import LinearRegression\n",
    "poly_reg = PolynomialFeatures(degree = 4)\n",
    "X_poly = poly_reg.fit_transform(X_train)\n",
    "regressor = LinearRegression()\n",
    "regressor.fit(X_poly, y_train)"
   ]
  },
  {
   "cell_type": "markdown",
   "metadata": {
    "colab_type": "text",
    "id": "pzF3BRps9nlk"
   },
   "source": [
    "## Predicting the Test set results"
   ]
  },
  {
   "cell_type": "code",
   "execution_count": 16,
   "metadata": {
    "colab": {},
    "colab_type": "code",
    "id": "36aFLFBK9pMk"
   },
   "outputs": [
    {
     "name": "stdout",
     "output_type": "stream",
     "text": [
      "[[ 2.84e-01  0.00e+00]\n",
      " [-4.65e-08  0.00e+00]\n",
      " [ 1.00e+00  1.00e+00]\n",
      " [-1.52e-07  0.00e+00]\n",
      " [ 1.00e+00  1.00e+00]\n",
      " [-8.49e-05  0.00e+00]\n",
      " [ 1.00e+00  1.00e+00]\n",
      " [-6.02e-08  0.00e+00]\n",
      " [ 2.60e-03  0.00e+00]\n",
      " [-7.17e-08  0.00e+00]\n",
      " [ 1.00e+00  1.00e+00]\n",
      " [ 1.00e+00  1.00e+00]\n",
      " [ 7.78e-07  0.00e+00]\n",
      " [-9.54e-08  0.00e+00]\n",
      " [-1.10e-07  0.00e+00]\n",
      " [-6.59e-08  0.00e+00]\n",
      " [ 1.00e+00  1.00e+00]\n",
      " [-1.29e-07  0.00e+00]\n",
      " [ 1.00e+00  1.00e+00]\n",
      " [ 1.43e+00  1.00e+00]\n",
      " [-9.13e-08  0.00e+00]\n",
      " [ 1.00e+00  1.00e+00]\n",
      " [-3.66e-08  0.00e+00]\n",
      " [ 7.92e-08  0.00e+00]\n",
      " [ 1.46e-02  0.00e+00]\n",
      " [ 6.96e-07  0.00e+00]\n",
      " [ 1.00e+00  1.00e+00]\n",
      " [-1.13e-07  0.00e+00]\n",
      " [-6.06e-08  0.00e+00]\n",
      " [-1.00e-07  0.00e+00]\n",
      " [ 1.00e+00  1.00e+00]\n",
      " [ 1.00e+00  1.00e+00]\n",
      " [ 1.00e+00  1.00e+00]\n",
      " [ 1.02e+00  1.00e+00]\n",
      " [ 1.00e+00  1.00e+00]\n",
      " [ 1.44e-07  0.00e+00]\n",
      " [ 2.01e-03  0.00e+00]\n",
      " [ 1.00e+00  1.00e+00]\n",
      " [ 1.00e+00  1.00e+00]\n",
      " [ 9.99e-01  1.00e+00]\n",
      " [ 1.02e+00  1.00e+00]\n",
      " [-4.04e-08  0.00e+00]\n",
      " [ 1.00e+00  1.00e+00]\n",
      " [ 1.00e+00  1.00e+00]\n",
      " [ 1.02e-07  0.00e+00]\n",
      " [ 1.00e+00  1.00e+00]\n",
      " [-6.59e-08  0.00e+00]\n",
      " [ 1.46e-09  0.00e+00]\n",
      " [-1.05e-07  0.00e+00]\n",
      " [-2.41e-07  0.00e+00]\n",
      " [ 1.16e-03  0.00e+00]\n",
      " [ 1.00e+00  1.00e+00]\n",
      " [ 1.00e+00  1.00e+00]\n",
      " [-4.75e-08  0.00e+00]\n",
      " [ 2.04e-07  0.00e+00]\n",
      " [ 1.00e+00  1.00e+00]\n",
      " [-1.52e-07  0.00e+00]\n",
      " [ 9.97e-01  1.00e+00]\n",
      " [-7.86e-08  0.00e+00]\n",
      " [-3.33e-08  0.00e+00]\n",
      " [ 7.56e-08  0.00e+00]\n",
      " [ 1.00e+00  1.00e+00]\n",
      " [ 1.02e+00  1.00e+00]\n",
      " [-1.52e-07  0.00e+00]\n",
      " [ 1.67e-07  0.00e+00]\n",
      " [ 1.00e+00  1.00e+00]\n",
      " [ 1.00e+00  1.00e+00]\n",
      " [ 9.98e-01  1.00e+00]\n",
      " [ 1.00e+00  1.00e+00]\n",
      " [-5.81e-08  0.00e+00]\n",
      " [-5.81e-08  0.00e+00]\n",
      " [ 1.00e+00  1.00e+00]\n",
      " [ 1.02e+00  1.00e+00]\n",
      " [ 1.00e+00  1.00e+00]\n",
      " [ 9.99e-01  1.00e+00]\n",
      " [ 2.65e-06  0.00e+00]\n",
      " [-1.11e-07  0.00e+00]\n",
      " [ 1.00e+00  1.00e+00]\n",
      " [ 2.67e-07  0.00e+00]\n",
      " [ 9.99e-01  1.00e+00]\n",
      " [ 1.97e-04  0.00e+00]\n",
      " [ 1.00e+00  1.00e+00]\n",
      " [-2.22e-07  0.00e+00]\n",
      " [ 1.68e-07  0.00e+00]]\n"
     ]
    }
   ],
   "source": [
    "y_pred = regressor.predict(poly_reg.transform(X_test))\n",
    "np.set_printoptions(precision=2)\n",
    "print(np.concatenate((y_pred.reshape(len(y_pred),1), y_test.reshape(len(y_test),1)),1))"
   ]
  },
  {
   "cell_type": "markdown",
   "metadata": {
    "colab_type": "text",
    "id": "Fz1uTlWV919-"
   },
   "source": [
    "## Evaluating the Model Performance"
   ]
  },
  {
   "cell_type": "code",
   "execution_count": 17,
   "metadata": {
    "colab": {},
    "colab_type": "code",
    "id": "xvZQ_4W893-e"
   },
   "outputs": [
    {
     "data": {
      "text/plain": [
       "0.9870884360630344"
      ]
     },
     "execution_count": 17,
     "metadata": {},
     "output_type": "execute_result"
    }
   ],
   "source": [
    "from sklearn.metrics import r2_score\n",
    "r2_score(y_test, y_pred)"
   ]
  },
  {
   "cell_type": "code",
   "execution_count": null,
   "metadata": {},
   "outputs": [],
   "source": []
  }
 ],
 "metadata": {
  "colab": {
   "collapsed_sections": [],
   "name": "polynomial_regression.ipynb",
   "provenance": [],
   "toc_visible": true
  },
  "kernelspec": {
   "display_name": "Python 3",
   "language": "python",
   "name": "python3"
  },
  "language_info": {
   "codemirror_mode": {
    "name": "ipython",
    "version": 3
   },
   "file_extension": ".py",
   "mimetype": "text/x-python",
   "name": "python",
   "nbconvert_exporter": "python",
   "pygments_lexer": "ipython3",
   "version": "3.8.5"
  }
 },
 "nbformat": 4,
 "nbformat_minor": 1
}
