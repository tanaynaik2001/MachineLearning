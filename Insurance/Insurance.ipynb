{
  "nbformat": 4,
  "nbformat_minor": 0,
  "metadata": {
    "colab": {
      "name": "Insurance.ipynb",
      "provenance": []
    },
    "kernelspec": {
      "name": "python3",
      "display_name": "Python 3"
    },
    "language_info": {
      "name": "python"
    }
  },
  "cells": [
    {
      "cell_type": "code",
      "metadata": {
        "id": "efYXHoDTZjUC"
      },
      "source": [
        "import numpy as np\n",
        "import matplotlib.pyplot as plt\n",
        "import pandas as pd"
      ],
      "execution_count": 1,
      "outputs": []
    },
    {
      "cell_type": "code",
      "metadata": {
        "colab": {
          "base_uri": "https://localhost:8080/",
          "height": 204
        },
        "id": "vC8driT1ZuKd",
        "outputId": "8be4a2c0-b8f0-4aa3-f8c2-8a8630d8ae3c"
      },
      "source": [
        "dataset=pd.read_csv('insurance.csv')\n",
        "dataset.head()"
      ],
      "execution_count": 2,
      "outputs": [
        {
          "output_type": "execute_result",
          "data": {
            "text/html": [
              "<div>\n",
              "<style scoped>\n",
              "    .dataframe tbody tr th:only-of-type {\n",
              "        vertical-align: middle;\n",
              "    }\n",
              "\n",
              "    .dataframe tbody tr th {\n",
              "        vertical-align: top;\n",
              "    }\n",
              "\n",
              "    .dataframe thead th {\n",
              "        text-align: right;\n",
              "    }\n",
              "</style>\n",
              "<table border=\"1\" class=\"dataframe\">\n",
              "  <thead>\n",
              "    <tr style=\"text-align: right;\">\n",
              "      <th></th>\n",
              "      <th>age</th>\n",
              "      <th>sex</th>\n",
              "      <th>bmi</th>\n",
              "      <th>children</th>\n",
              "      <th>smoker</th>\n",
              "      <th>region</th>\n",
              "      <th>charges</th>\n",
              "    </tr>\n",
              "  </thead>\n",
              "  <tbody>\n",
              "    <tr>\n",
              "      <th>0</th>\n",
              "      <td>19</td>\n",
              "      <td>0</td>\n",
              "      <td>27.900</td>\n",
              "      <td>0</td>\n",
              "      <td>1</td>\n",
              "      <td>3</td>\n",
              "      <td>16884.92400</td>\n",
              "    </tr>\n",
              "    <tr>\n",
              "      <th>1</th>\n",
              "      <td>18</td>\n",
              "      <td>1</td>\n",
              "      <td>33.770</td>\n",
              "      <td>1</td>\n",
              "      <td>0</td>\n",
              "      <td>2</td>\n",
              "      <td>1725.55230</td>\n",
              "    </tr>\n",
              "    <tr>\n",
              "      <th>2</th>\n",
              "      <td>28</td>\n",
              "      <td>1</td>\n",
              "      <td>33.000</td>\n",
              "      <td>3</td>\n",
              "      <td>0</td>\n",
              "      <td>2</td>\n",
              "      <td>4449.46200</td>\n",
              "    </tr>\n",
              "    <tr>\n",
              "      <th>3</th>\n",
              "      <td>33</td>\n",
              "      <td>1</td>\n",
              "      <td>22.705</td>\n",
              "      <td>0</td>\n",
              "      <td>0</td>\n",
              "      <td>1</td>\n",
              "      <td>21984.47061</td>\n",
              "    </tr>\n",
              "    <tr>\n",
              "      <th>4</th>\n",
              "      <td>32</td>\n",
              "      <td>1</td>\n",
              "      <td>28.880</td>\n",
              "      <td>0</td>\n",
              "      <td>0</td>\n",
              "      <td>1</td>\n",
              "      <td>3866.85520</td>\n",
              "    </tr>\n",
              "  </tbody>\n",
              "</table>\n",
              "</div>"
            ],
            "text/plain": [
              "   age  sex     bmi  children  smoker  region      charges\n",
              "0   19    0  27.900         0       1       3  16884.92400\n",
              "1   18    1  33.770         1       0       2   1725.55230\n",
              "2   28    1  33.000         3       0       2   4449.46200\n",
              "3   33    1  22.705         0       0       1  21984.47061\n",
              "4   32    1  28.880         0       0       1   3866.85520"
            ]
          },
          "metadata": {
            "tags": []
          },
          "execution_count": 2
        }
      ]
    },
    {
      "cell_type": "code",
      "metadata": {
        "colab": {
          "base_uri": "https://localhost:8080/"
        },
        "id": "SUnVVyqwZ5eR",
        "outputId": "0b616b57-7e52-41c6-9011-211e71cb39f7"
      },
      "source": [
        "dataset.isnull().sum()"
      ],
      "execution_count": 3,
      "outputs": [
        {
          "output_type": "execute_result",
          "data": {
            "text/plain": [
              "age         0\n",
              "sex         0\n",
              "bmi         0\n",
              "children    0\n",
              "smoker      0\n",
              "region      0\n",
              "charges     0\n",
              "dtype: int64"
            ]
          },
          "metadata": {
            "tags": []
          },
          "execution_count": 3
        }
      ]
    },
    {
      "cell_type": "code",
      "metadata": {
        "id": "zNYZDQFgZ8KL"
      },
      "source": [
        "X=dataset.iloc[:,:-1].values\n",
        "y=dataset.iloc[:,-1].values"
      ],
      "execution_count": 4,
      "outputs": []
    },
    {
      "cell_type": "code",
      "metadata": {
        "id": "ouDmaZ6DaADM"
      },
      "source": [
        "from sklearn.model_selection import train_test_split\n",
        "X_train , X_test , y_train , y_test = train_test_split(X,y,test_size=0.2,random_state=0)"
      ],
      "execution_count": 5,
      "outputs": []
    },
    {
      "cell_type": "code",
      "metadata": {
        "colab": {
          "base_uri": "https://localhost:8080/"
        },
        "id": "b14W8mHNaCoq",
        "outputId": "862ffa75-14aa-4d11-d2cf-a48af05824af"
      },
      "source": [
        "from sklearn.linear_model import LinearRegression\n",
        "regressor=LinearRegression()\n",
        "regressor.fit(X_train,y_train)"
      ],
      "execution_count": 6,
      "outputs": [
        {
          "output_type": "execute_result",
          "data": {
            "text/plain": [
              "LinearRegression(copy_X=True, fit_intercept=True, n_jobs=None, normalize=False)"
            ]
          },
          "metadata": {
            "tags": []
          },
          "execution_count": 6
        }
      ]
    },
    {
      "cell_type": "code",
      "metadata": {
        "id": "b0WaMzZoaE2w"
      },
      "source": [
        "y_pred=regressor.predict(X_test)"
      ],
      "execution_count": 7,
      "outputs": []
    },
    {
      "cell_type": "code",
      "metadata": {
        "colab": {
          "base_uri": "https://localhost:8080/"
        },
        "id": "Ld6R2UWBaOjo",
        "outputId": "0954753d-c1d5-464f-c7fc-ea5e450b4171"
      },
      "source": [
        "print(np.concatenate((y_pred.reshape(len(y_pred),1), y_test.reshape(len(y_test),1)),1))"
      ],
      "execution_count": 8,
      "outputs": [
        {
          "output_type": "stream",
          "text": [
            "[[11042.77369358  8240.5896    ]\n",
            " [35030.9457966  23568.272     ]\n",
            " [ 9736.26282308  9282.4806    ]\n",
            " [14054.77271161 20630.28351   ]\n",
            " [ 4736.29677045  3906.127     ]\n",
            " [ 6637.29789939  4922.9159    ]\n",
            " [ 5413.79010965  4883.866     ]\n",
            " [18363.48509678 11381.3254    ]\n",
            " [ 5168.36481255  2026.9741    ]\n",
            " [ 5099.18097452  4040.55825   ]\n",
            " [13043.67602404  9144.565     ]\n",
            " [ 9478.73324001  5920.1041    ]\n",
            " [31672.92630518 19515.5416    ]\n",
            " [14413.52001703 11163.568     ]\n",
            " [40064.18242522 30184.9367    ]\n",
            " [ 3100.9048141   1261.442     ]\n",
            " [  596.42158801  1632.56445   ]\n",
            " [13847.89922208 13937.6665    ]\n",
            " [ 2089.78176651  2483.736     ]\n",
            " [31730.95406051 19444.2658    ]\n",
            " [ 5017.52153903  1986.9334    ]\n",
            " [14962.75452752 12928.7911    ]\n",
            " [ 1126.23101998  2302.3       ]\n",
            " [40546.90995998 30942.1918    ]\n",
            " [ 5331.77874886  5125.2157    ]\n",
            " [12025.41179618 14451.83515   ]\n",
            " [ 1006.48375231  1837.237     ]\n",
            " [10941.81680119 11082.5772    ]\n",
            " [ 5180.55540761  3947.4131    ]\n",
            " [41270.18394637 48824.45      ]\n",
            " [24823.15992487 14711.7438    ]\n",
            " [ 9928.78480288  8606.2174    ]\n",
            " [ 9394.1449414   8059.6791    ]\n",
            " [13859.81116955 11488.31695   ]\n",
            " [41172.94100886 47496.49445   ]\n",
            " [ 8396.17284425  6186.127     ]\n",
            " [ 9356.38562833  8232.6388    ]\n",
            " [  -84.36167451  1832.094     ]\n",
            " [ 5554.08176059  2755.02095   ]\n",
            " [15000.32326283 13228.84695   ]\n",
            " [ 8930.61346184  9855.1314    ]\n",
            " [10995.98767416  8538.28845   ]\n",
            " [30396.24561195 17179.522     ]\n",
            " [12241.61237381 10564.8845    ]\n",
            " [14572.62491544 13880.949     ]\n",
            " [ 1584.97558858 21344.8467    ]\n",
            " [ 3634.54715323  3645.0894    ]\n",
            " [41838.77022082 48549.17835   ]\n",
            " [17516.11591397 13405.3903    ]\n",
            " [ 4064.27180139  2404.7338    ]\n",
            " [ 1748.99610415  2457.21115   ]\n",
            " [11114.70726642  8334.45755   ]\n",
            " [36181.99235579 24873.3849    ]\n",
            " [ 8279.86017291  7281.5056    ]\n",
            " [ 1482.66305224  1743.214     ]\n",
            " [ 4707.94346706  4337.7352    ]\n",
            " [31228.11934414 19964.7463    ]\n",
            " [ 5295.23832826 20277.80751   ]\n",
            " [ 9490.07696506  7726.854     ]\n",
            " [ 9568.08659353  5989.52365   ]\n",
            " [ 6324.31280265  4260.744     ]\n",
            " [12592.2623774  13047.33235   ]\n",
            " [14624.62408524 13607.36875   ]\n",
            " [26172.13985858 16297.846     ]\n",
            " [31656.73333849 20745.9891    ]\n",
            " [ 2041.64978542  2331.519     ]\n",
            " [31546.73839881 36950.2567    ]\n",
            " [12349.86092186  7740.337     ]\n",
            " [ 4443.64419219  3392.9768    ]\n",
            " [ 3832.29944009  4133.64165   ]]\n"
          ],
          "name": "stdout"
        }
      ]
    },
    {
      "cell_type": "code",
      "metadata": {
        "id": "CKdW_yT2aZfm"
      },
      "source": [
        "from sklearn.metrics import r2_score\n",
        "lin_reg_score=r2_score(y_test, y_pred)"
      ],
      "execution_count": 9,
      "outputs": []
    },
    {
      "cell_type": "code",
      "metadata": {
        "colab": {
          "base_uri": "https://localhost:8080/"
        },
        "id": "zevKszUXbGlS",
        "outputId": "df31b1c4-f568-4ca4-abfc-000710051b53"
      },
      "source": [
        "y_pred=regressor.predict(X_test)\n",
        "np.set_printoptions(precision=2)\n",
        "print(np.concatenate((y_pred.reshape(len(y_pred),1), y_test.reshape(len(y_test),1)),1))"
      ],
      "execution_count": 10,
      "outputs": [
        {
          "output_type": "stream",
          "text": [
            "[[11042.77  8240.59]\n",
            " [35030.95 23568.27]\n",
            " [ 9736.26  9282.48]\n",
            " [14054.77 20630.28]\n",
            " [ 4736.3   3906.13]\n",
            " [ 6637.3   4922.92]\n",
            " [ 5413.79  4883.87]\n",
            " [18363.49 11381.33]\n",
            " [ 5168.36  2026.97]\n",
            " [ 5099.18  4040.56]\n",
            " [13043.68  9144.57]\n",
            " [ 9478.73  5920.1 ]\n",
            " [31672.93 19515.54]\n",
            " [14413.52 11163.57]\n",
            " [40064.18 30184.94]\n",
            " [ 3100.9   1261.44]\n",
            " [  596.42  1632.56]\n",
            " [13847.9  13937.67]\n",
            " [ 2089.78  2483.74]\n",
            " [31730.95 19444.27]\n",
            " [ 5017.52  1986.93]\n",
            " [14962.75 12928.79]\n",
            " [ 1126.23  2302.3 ]\n",
            " [40546.91 30942.19]\n",
            " [ 5331.78  5125.22]\n",
            " [12025.41 14451.84]\n",
            " [ 1006.48  1837.24]\n",
            " [10941.82 11082.58]\n",
            " [ 5180.56  3947.41]\n",
            " [41270.18 48824.45]\n",
            " [24823.16 14711.74]\n",
            " [ 9928.78  8606.22]\n",
            " [ 9394.14  8059.68]\n",
            " [13859.81 11488.32]\n",
            " [41172.94 47496.49]\n",
            " [ 8396.17  6186.13]\n",
            " [ 9356.39  8232.64]\n",
            " [  -84.36  1832.09]\n",
            " [ 5554.08  2755.02]\n",
            " [15000.32 13228.85]\n",
            " [ 8930.61  9855.13]\n",
            " [10995.99  8538.29]\n",
            " [30396.25 17179.52]\n",
            " [12241.61 10564.88]\n",
            " [14572.62 13880.95]\n",
            " [ 1584.98 21344.85]\n",
            " [ 3634.55  3645.09]\n",
            " [41838.77 48549.18]\n",
            " [17516.12 13405.39]\n",
            " [ 4064.27  2404.73]\n",
            " [ 1749.    2457.21]\n",
            " [11114.71  8334.46]\n",
            " [36181.99 24873.38]\n",
            " [ 8279.86  7281.51]\n",
            " [ 1482.66  1743.21]\n",
            " [ 4707.94  4337.74]\n",
            " [31228.12 19964.75]\n",
            " [ 5295.24 20277.81]\n",
            " [ 9490.08  7726.85]\n",
            " [ 9568.09  5989.52]\n",
            " [ 6324.31  4260.74]\n",
            " [12592.26 13047.33]\n",
            " [14624.62 13607.37]\n",
            " [26172.14 16297.85]\n",
            " [31656.73 20745.99]\n",
            " [ 2041.65  2331.52]\n",
            " [31546.74 36950.26]\n",
            " [12349.86  7740.34]\n",
            " [ 4443.64  3392.98]\n",
            " [ 3832.3   4133.64]]\n"
          ],
          "name": "stdout"
        }
      ]
    },
    {
      "cell_type": "code",
      "metadata": {
        "id": "0md6LnlEbU9e"
      },
      "source": [
        "from sklearn.metrics import r2_score\n",
        "r2_score(y_test, y_pred)\n",
        "multi_reg_score=r2_score(y_test, y_pred)"
      ],
      "execution_count": 11,
      "outputs": []
    },
    {
      "cell_type": "code",
      "metadata": {
        "colab": {
          "base_uri": "https://localhost:8080/"
        },
        "id": "Dx2fQb34blDR",
        "outputId": "37729cbf-7f57-4c10-a222-966fb4874130"
      },
      "source": [
        "from sklearn.preprocessing import PolynomialFeatures\n",
        "poly_reg = PolynomialFeatures(degree = 4)\n",
        "X_poly = poly_reg.fit_transform(X_train)\n",
        "regressor = LinearRegression()\n",
        "regressor.fit(X_poly, y_train)"
      ],
      "execution_count": 12,
      "outputs": [
        {
          "output_type": "execute_result",
          "data": {
            "text/plain": [
              "LinearRegression(copy_X=True, fit_intercept=True, n_jobs=None, normalize=False)"
            ]
          },
          "metadata": {
            "tags": []
          },
          "execution_count": 12
        }
      ]
    },
    {
      "cell_type": "code",
      "metadata": {
        "colab": {
          "base_uri": "https://localhost:8080/"
        },
        "id": "BfOyvmMkbwSq",
        "outputId": "3a234dcf-669c-43f3-fc77-542b1543982d"
      },
      "source": [
        "y_pred = regressor.predict(poly_reg.transform(X_test))\n",
        "np.set_printoptions(precision=2)\n",
        "print(np.concatenate((y_pred.reshape(len(y_pred),1), y_test.reshape(len(y_test),1)),1))"
      ],
      "execution_count": 13,
      "outputs": [
        {
          "output_type": "stream",
          "text": [
            "[[ 6.43e+03  8.24e+03]\n",
            " [ 4.96e+04  2.36e+04]\n",
            " [ 2.79e+04  9.28e+03]\n",
            " [ 1.25e+04  2.06e+04]\n",
            " [-1.93e+02  3.91e+03]\n",
            " [ 5.97e+03  4.92e+03]\n",
            " [ 1.64e+04  4.88e+03]\n",
            " [-5.59e+03  1.14e+04]\n",
            " [ 9.04e+03  2.03e+03]\n",
            " [ 7.58e+03  4.04e+03]\n",
            " [ 1.01e+04  9.14e+03]\n",
            " [ 1.41e+03  5.92e+03]\n",
            " [ 1.43e+04  1.95e+04]\n",
            " [ 1.14e+04  1.12e+04]\n",
            " [ 3.52e+04  3.02e+04]\n",
            " [ 4.88e+03  1.26e+03]\n",
            " [ 2.03e+03  1.63e+03]\n",
            " [ 1.66e+04  1.39e+04]\n",
            " [ 1.24e+02  2.48e+03]\n",
            " [ 5.96e+04  1.94e+04]\n",
            " [-1.42e+02  1.99e+03]\n",
            " [ 1.08e+04  1.29e+04]\n",
            " [-1.48e+04  2.30e+03]\n",
            " [ 1.03e+05  3.09e+04]\n",
            " [ 1.03e+04  5.13e+03]\n",
            " [ 1.46e+04  1.45e+04]\n",
            " [-8.54e+03  1.84e+03]\n",
            " [ 1.35e+04  1.11e+04]\n",
            " [ 3.53e+03  3.95e+03]\n",
            " [ 4.89e+04  4.88e+04]\n",
            " [ 1.26e+03  1.47e+04]\n",
            " [ 4.15e+03  8.61e+03]\n",
            " [ 7.54e+03  8.06e+03]\n",
            " [-1.10e+04  1.15e+04]\n",
            " [ 4.56e+04  4.75e+04]\n",
            " [ 8.04e+03  6.19e+03]\n",
            " [ 9.33e+03  8.23e+03]\n",
            " [-2.40e+04  1.83e+03]\n",
            " [ 3.93e+04  2.76e+03]\n",
            " [ 9.03e+03  1.32e+04]\n",
            " [ 1.13e+04  9.86e+03]\n",
            " [ 1.85e+04  8.54e+03]\n",
            " [ 3.92e+04  1.72e+04]\n",
            " [ 3.96e+03  1.06e+04]\n",
            " [ 1.71e+04  1.39e+04]\n",
            " [ 6.83e+00  2.13e+04]\n",
            " [ 6.65e+03  3.65e+03]\n",
            " [ 6.04e+04  4.85e+04]\n",
            " [ 2.13e+04  1.34e+04]\n",
            " [-2.40e+02  2.40e+03]\n",
            " [ 1.67e+03  2.46e+03]\n",
            " [ 1.08e+04  8.33e+03]\n",
            " [ 7.28e+04  2.49e+04]\n",
            " [ 5.75e+03  7.28e+03]\n",
            " [ 5.20e+03  1.74e+03]\n",
            " [ 8.45e+03  4.34e+03]\n",
            " [ 1.04e+03  2.00e+04]\n",
            " [ 7.00e+03  2.03e+04]\n",
            " [ 1.43e+04  7.73e+03]\n",
            " [ 5.18e+03  5.99e+03]\n",
            " [ 4.35e+03  4.26e+03]\n",
            " [-2.57e+03  1.30e+04]\n",
            " [ 1.37e+04  1.36e+04]\n",
            " [ 1.28e+04  1.63e+04]\n",
            " [ 2.82e+04  2.07e+04]\n",
            " [ 6.82e+03  2.33e+03]\n",
            " [ 3.93e+04  3.70e+04]\n",
            " [ 3.84e+03  7.74e+03]\n",
            " [ 2.51e+03  3.39e+03]\n",
            " [ 8.16e+03  4.13e+03]]\n"
          ],
          "name": "stdout"
        }
      ]
    },
    {
      "cell_type": "code",
      "metadata": {
        "id": "OPUBaroob1Un"
      },
      "source": [
        "from sklearn.metrics import r2_score\n",
        "r2_score(y_test, y_pred)\n",
        "poly_reg_score=r2_score(y_test, y_pred)"
      ],
      "execution_count": 14,
      "outputs": []
    },
    {
      "cell_type": "code",
      "metadata": {
        "colab": {
          "base_uri": "https://localhost:8080/"
        },
        "id": "sn0-B59tcFac",
        "outputId": "bde494ef-aa85-425a-bdbb-0ba9c261dac9"
      },
      "source": [
        "from sklearn.ensemble import RandomForestRegressor\n",
        "regressor = RandomForestRegressor(n_estimators = 10, random_state = 0)\n",
        "regressor.fit(X_train, y_train)"
      ],
      "execution_count": 15,
      "outputs": [
        {
          "output_type": "execute_result",
          "data": {
            "text/plain": [
              "RandomForestRegressor(bootstrap=True, ccp_alpha=0.0, criterion='mse',\n",
              "                      max_depth=None, max_features='auto', max_leaf_nodes=None,\n",
              "                      max_samples=None, min_impurity_decrease=0.0,\n",
              "                      min_impurity_split=None, min_samples_leaf=1,\n",
              "                      min_samples_split=2, min_weight_fraction_leaf=0.0,\n",
              "                      n_estimators=10, n_jobs=None, oob_score=False,\n",
              "                      random_state=0, verbose=0, warm_start=False)"
            ]
          },
          "metadata": {
            "tags": []
          },
          "execution_count": 15
        }
      ]
    },
    {
      "cell_type": "code",
      "metadata": {
        "colab": {
          "base_uri": "https://localhost:8080/"
        },
        "id": "WvOteCKXcIEk",
        "outputId": "517b4238-e2ae-44bd-8fb7-4b0aff677533"
      },
      "source": [
        "y_pred = regressor.predict(X_test)\n",
        "np.set_printoptions(precision=2)\n",
        "print(np.concatenate((y_pred.reshape(len(y_pred),1), y_test.reshape(len(y_test),1)),1))"
      ],
      "execution_count": 16,
      "outputs": [
        {
          "output_type": "stream",
          "text": [
            "[[ 8537.52  8240.59]\n",
            " [22698.76 23568.27]\n",
            " [ 8936.45  9282.48]\n",
            " [10688.83 20630.28]\n",
            " [ 5827.85  3906.13]\n",
            " [10595.73  4922.92]\n",
            " [ 5212.78  4883.87]\n",
            " [18986.99 11381.33]\n",
            " [ 1893.33  2026.97]\n",
            " [ 6839.47  4040.56]\n",
            " [ 9462.07  9144.57]\n",
            " [ 6405.23  5920.1 ]\n",
            " [21540.65 19515.54]\n",
            " [12262.82 11163.57]\n",
            " [45054.09 30184.94]\n",
            " [ 1278.11  1261.44]\n",
            " [ 1727.72  1632.56]\n",
            " [15289.79 13937.67]\n",
            " [11344.15  2483.74]\n",
            " [23504.31 19444.27]\n",
            " [ 4682.17  1986.93]\n",
            " [12575.67 12928.79]\n",
            " [ 6015.73  2302.3 ]\n",
            " [45512.35 30942.19]\n",
            " [ 7293.14  5125.22]\n",
            " [15134.45 14451.84]\n",
            " [ 1958.28  1837.24]\n",
            " [20712.34 11082.58]\n",
            " [ 5139.99  3947.41]\n",
            " [47533.8  48824.45]\n",
            " [16575.56 14711.74]\n",
            " [14884.09  8606.22]\n",
            " [ 6756.39  8059.68]\n",
            " [16862.8  11488.32]\n",
            " [43881.86 47496.49]\n",
            " [ 6551.14  6186.13]\n",
            " [ 8553.59  8232.64]\n",
            " [ 2203.32  1832.09]\n",
            " [ 2124.91  2755.02]\n",
            " [13180.28 13228.85]\n",
            " [ 9361.72  9855.13]\n",
            " [ 8682.22  8538.29]\n",
            " [20723.9  17179.52]\n",
            " [11637.28 10564.88]\n",
            " [13913.53 13880.95]\n",
            " [ 2032.92 21344.85]\n",
            " [ 3646.48  3645.09]\n",
            " [44501.2  48549.18]\n",
            " [20097.33 13405.39]\n",
            " [ 1978.94  2404.73]\n",
            " [ 2031.65  2457.21]\n",
            " [ 8657.94  8334.46]\n",
            " [26938.77 24873.38]\n",
            " [ 6514.95  7281.51]\n",
            " [ 1723.31  1743.21]\n",
            " [ 6915.53  4337.74]\n",
            " [23975.01 19964.75]\n",
            " [ 8368.55 20277.81]\n",
            " [ 7635.37  7726.85]\n",
            " [ 6072.37  5989.52]\n",
            " [ 4335.63  4260.74]\n",
            " [20302.31 13047.33]\n",
            " [12412.64 13607.37]\n",
            " [17159.19 16297.85]\n",
            " [18798.09 20745.99]\n",
            " [ 2142.12  2331.52]\n",
            " [36785.12 36950.26]\n",
            " [ 7708.39  7740.34]\n",
            " [ 3571.94  3392.98]\n",
            " [ 6859.73  4133.64]]\n"
          ],
          "name": "stdout"
        }
      ]
    },
    {
      "cell_type": "code",
      "metadata": {
        "id": "gGV0bNcQcMIQ"
      },
      "source": [
        "from sklearn.metrics import r2_score\n",
        "r2_score(y_test, y_pred)\n",
        "random_forest_reg_score=r2_score(y_test, y_pred)"
      ],
      "execution_count": 17,
      "outputs": []
    },
    {
      "cell_type": "code",
      "metadata": {
        "colab": {
          "base_uri": "https://localhost:8080/"
        },
        "id": "VviA76BSfjwh",
        "outputId": "c22c547f-b8ae-4fa6-ebcd-5182ae609ef7"
      },
      "source": [
        "X.shape[0]"
      ],
      "execution_count": 18,
      "outputs": [
        {
          "output_type": "execute_result",
          "data": {
            "text/plain": [
              "348"
            ]
          },
          "metadata": {
            "tags": []
          },
          "execution_count": 18
        }
      ]
    },
    {
      "cell_type": "code",
      "metadata": {
        "colab": {
          "base_uri": "https://localhost:8080/"
        },
        "id": "zsc3NBtNcgLU",
        "outputId": "d77e8fd0-ae2d-4624-c286-8fba50558aed"
      },
      "source": [
        "y = y.reshape(len(y),1)\n",
        "print(y.shape[0])"
      ],
      "execution_count": 19,
      "outputs": [
        {
          "output_type": "stream",
          "text": [
            "348\n"
          ],
          "name": "stdout"
        }
      ]
    },
    {
      "cell_type": "code",
      "metadata": {
        "id": "NezMB7NXevEc"
      },
      "source": [
        "from sklearn.model_selection import train_test_split\n",
        "X_train, X_test, y_train, y_test = train_test_split(X, y, test_size = 0.2, random_state = 0)"
      ],
      "execution_count": 20,
      "outputs": []
    },
    {
      "cell_type": "code",
      "metadata": {
        "id": "7HFsJKMwcULF"
      },
      "source": [
        "from sklearn.preprocessing import StandardScaler\n",
        "sc_X = StandardScaler()\n",
        "sc_y = StandardScaler()\n",
        "X_train = sc_X.fit_transform(X_train)\n",
        "y_train = sc_y.fit_transform(y_train)"
      ],
      "execution_count": 21,
      "outputs": []
    },
    {
      "cell_type": "code",
      "metadata": {
        "colab": {
          "base_uri": "https://localhost:8080/"
        },
        "id": "9aSFo96-cXHj",
        "outputId": "e990daa2-6014-4697-eade-e0253d54a5a3"
      },
      "source": [
        "from sklearn.svm import SVR\n",
        "regressor = SVR(kernel = 'rbf')\n",
        "regressor.fit(X_train, y_train)"
      ],
      "execution_count": 22,
      "outputs": [
        {
          "output_type": "stream",
          "text": [
            "/usr/local/lib/python3.7/dist-packages/sklearn/utils/validation.py:760: DataConversionWarning: A column-vector y was passed when a 1d array was expected. Please change the shape of y to (n_samples, ), for example using ravel().\n",
            "  y = column_or_1d(y, warn=True)\n"
          ],
          "name": "stderr"
        },
        {
          "output_type": "execute_result",
          "data": {
            "text/plain": [
              "SVR(C=1.0, cache_size=200, coef0=0.0, degree=3, epsilon=0.1, gamma='scale',\n",
              "    kernel='rbf', max_iter=-1, shrinking=True, tol=0.001, verbose=False)"
            ]
          },
          "metadata": {
            "tags": []
          },
          "execution_count": 22
        }
      ]
    },
    {
      "cell_type": "code",
      "metadata": {
        "colab": {
          "base_uri": "https://localhost:8080/"
        },
        "id": "trrLmTYbcXm6",
        "outputId": "73485c19-b055-4402-bf5f-c3f4305647db"
      },
      "source": [
        "y_pred = sc_y.inverse_transform(regressor.predict(sc_X.transform(X_test)))\n",
        "np.set_printoptions(precision=2)\n",
        "print(np.concatenate((y_pred.reshape(len(y_pred),1), y_test.reshape(len(y_test),1)),1))"
      ],
      "execution_count": 23,
      "outputs": [
        {
          "output_type": "stream",
          "text": [
            "[[ 8080.76  8240.59]\n",
            " [30721.64 23568.27]\n",
            " [10903.88  9282.48]\n",
            " [10754.7  20630.28]\n",
            " [ 6656.83  3906.13]\n",
            " [ 4796.    4922.92]\n",
            " [ 6159.69  4883.87]\n",
            " [15238.   11381.33]\n",
            " [ 3317.59  2026.97]\n",
            " [ 4640.47  4040.56]\n",
            " [ 9574.63  9144.57]\n",
            " [ 5659.19  5920.1 ]\n",
            " [19025.27 19515.54]\n",
            " [12268.61 11163.57]\n",
            " [33718.96 30184.94]\n",
            " [ 3235.35  1261.44]\n",
            " [ 2635.64  1632.56]\n",
            " [15563.64 13937.67]\n",
            " [ 3517.73  2483.74]\n",
            " [21982.28 19444.27]\n",
            " [ 2390.42  1986.93]\n",
            " [14071.66 12928.79]\n",
            " [ 4676.74  2302.3 ]\n",
            " [40697.96 30942.19]\n",
            " [ 5383.25  5125.22]\n",
            " [15179.74 14451.84]\n",
            " [ 3715.27  1837.24]\n",
            " [12211.53 11082.58]\n",
            " [ 3464.65  3947.41]\n",
            " [43280.6  48824.45]\n",
            " [12867.31 14711.74]\n",
            " [ 9713.34  8606.22]\n",
            " [10101.55  8059.68]\n",
            " [12704.24 11488.32]\n",
            " [47937.67 47496.49]\n",
            " [ 7014.79  6186.13]\n",
            " [ 8754.2   8232.64]\n",
            " [ 4607.82  1832.09]\n",
            " [ 4719.29  2755.02]\n",
            " [14902.48 13228.85]\n",
            " [10890.07  9855.13]\n",
            " [11073.46  8538.29]\n",
            " [13391.37 17179.52]\n",
            " [12032.45 10564.88]\n",
            " [14558.01 13880.95]\n",
            " [ 3158.5  21344.85]\n",
            " [ 4926.64  3645.09]\n",
            " [41588.08 48549.18]\n",
            " [13789.96 13405.39]\n",
            " [ 2160.45  2404.73]\n",
            " [ 3179.09  2457.21]\n",
            " [ 8785.34  8334.46]\n",
            " [25008.41 24873.38]\n",
            " [ 9633.64  7281.51]\n",
            " [ 3222.78  1743.21]\n",
            " [ 4017.85  4337.74]\n",
            " [18034.03 19964.75]\n",
            " [ 4716.87 20277.81]\n",
            " [ 9277.58  7726.85]\n",
            " [ 4948.67  5989.52]\n",
            " [ 5925.74  4260.74]\n",
            " [14373.27 13047.33]\n",
            " [15019.45 13607.37]\n",
            " [22140.03 16297.85]\n",
            " [25979.8  20745.99]\n",
            " [ 3846.04  2331.52]\n",
            " [38527.29 36950.26]\n",
            " [ 8404.67  7740.34]\n",
            " [ 2953.9   3392.98]\n",
            " [ 3809.26  4133.64]]\n"
          ],
          "name": "stdout"
        }
      ]
    },
    {
      "cell_type": "code",
      "metadata": {
        "colab": {
          "base_uri": "https://localhost:8080/"
        },
        "id": "Xt00r3-Oc9uG",
        "outputId": "8fa621cb-7fc6-4a37-8568-e3be3cf72324"
      },
      "source": [
        "from sklearn.metrics import r2_score\n",
        "import math\n",
        "r2_score(y_test, y_pred)\n",
        "score=math.trunc(r2_score(y_test, y_pred)*100)\n",
        "svr_score=r2_score(y_test, y_pred)\n",
        "print(\"Highest accuracy is\",score,\"%\")"
      ],
      "execution_count": 24,
      "outputs": [
        {
          "output_type": "stream",
          "text": [
            "Highest accuracy is 86 %\n"
          ],
          "name": "stdout"
        }
      ]
    },
    {
      "cell_type": "markdown",
      "metadata": {
        "id": "BrduV9YydyCl"
      },
      "source": [
        "Hence this highest accuracy is 86%"
      ]
    },
    {
      "cell_type": "code",
      "metadata": {
        "colab": {
          "base_uri": "https://localhost:8080/",
          "height": 350
        },
        "id": "XYh70UZ0d1Qs",
        "outputId": "a57b9960-0c8f-4bfc-e72a-d3d4814bdbda"
      },
      "source": [
        "data={'Linear Regression':lin_reg_score,'Multiple Linear Regression':multi_reg_score,'Random Forest Regression':random_forest_reg_score,'Support Vector Regression':svr_score}\n",
        "keys=list(data.keys())\n",
        "values=list(data.values())\n",
        "fig = plt.figure(figsize = (10, 5))\n",
        "plt.bar(keys, values, color ='maroon',\n",
        "        width = 0.2)\n",
        " \n",
        "plt.xlabel(\"Type of regression\")\n",
        "plt.ylabel(\"Regression Score\")\n",
        "plt.title(\"Insaurance Predictor\")\n",
        "plt.show()"
      ],
      "execution_count": 25,
      "outputs": [
        {
          "output_type": "display_data",
          "data": {
            "image/png": "[encoded data removed]",
            "text/plain": [
              "<Figure size 720x360 with 1 Axes>"
            ]
          },
          "metadata": {
            "tags": [],
            "needs_background": "light"
          }
        }
      ]
    },
    {
      "cell_type": "markdown",
      "metadata": {
        "id": "4CmUWCXzh5aC"
      },
      "source": [
        "From the graph we can conclude that Support Vector Regression gives the best result"
      ]
    }
  ]
}